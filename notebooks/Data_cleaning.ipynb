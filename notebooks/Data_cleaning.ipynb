{
 "cells": [
  {
   "cell_type": "code",
   "execution_count": 1,
   "id": "84cf3129",
   "metadata": {},
   "outputs": [],
   "source": [
    "import pandas as pd\n",
    "import numpy as np\n",
    "import matplotlib.pyplot as plt\n",
    "%matplotlib inline\n",
    "import seaborn as sns\n",
    "\n",
    "# display all the columns of the dataframe\n",
    "pd.pandas.set_option('display.max_columns', None)"
   ]
  },
  {
   "cell_type": "code",
   "execution_count": 2,
   "id": "f6462a38",
   "metadata": {},
   "outputs": [],
   "source": [
    "df = pd.read_csv('Solar_Energy_Production.csv')"
   ]
  },
  {
   "cell_type": "code",
   "execution_count": 3,
   "id": "ccd49878",
   "metadata": {},
   "outputs": [
    {
     "data": {
      "text/html": [
       "<div>\n",
       "<style scoped>\n",
       "    .dataframe tbody tr th:only-of-type {\n",
       "        vertical-align: middle;\n",
       "    }\n",
       "\n",
       "    .dataframe tbody tr th {\n",
       "        vertical-align: top;\n",
       "    }\n",
       "\n",
       "    .dataframe thead th {\n",
       "        text-align: right;\n",
       "    }\n",
       "</style>\n",
       "<table border=\"1\" class=\"dataframe\">\n",
       "  <thead>\n",
       "    <tr style=\"text-align: right;\">\n",
       "      <th></th>\n",
       "      <th>name</th>\n",
       "      <th>id</th>\n",
       "      <th>address</th>\n",
       "      <th>date</th>\n",
       "      <th>kWh</th>\n",
       "      <th>public_url</th>\n",
       "      <th>installationDate</th>\n",
       "      <th>uid</th>\n",
       "    </tr>\n",
       "  </thead>\n",
       "  <tbody>\n",
       "    <tr>\n",
       "      <th>0</th>\n",
       "      <td>Southland Leisure Centre</td>\n",
       "      <td>164440</td>\n",
       "      <td>2000 SOUTHLAND DR SW</td>\n",
       "      <td>2015/09/01 02:30:00 PM</td>\n",
       "      <td>27.805</td>\n",
       "      <td>https://monitoring.solaredge.com/solaredge-web...</td>\n",
       "      <td>2015/09/01</td>\n",
       "      <td>1644402015-09-01 14:30:00</td>\n",
       "    </tr>\n",
       "    <tr>\n",
       "      <th>1</th>\n",
       "      <td>Southland Leisure Centre</td>\n",
       "      <td>164440</td>\n",
       "      <td>2000 SOUTHLAND DR SW</td>\n",
       "      <td>2015/09/01 03:30:00 PM</td>\n",
       "      <td>30.559</td>\n",
       "      <td>https://monitoring.solaredge.com/solaredge-web...</td>\n",
       "      <td>2015/09/01</td>\n",
       "      <td>1644402015-09-01 15:30:00</td>\n",
       "    </tr>\n",
       "    <tr>\n",
       "      <th>2</th>\n",
       "      <td>Southland Leisure Centre</td>\n",
       "      <td>164440</td>\n",
       "      <td>2000 SOUTHLAND DR SW</td>\n",
       "      <td>2015/09/01 04:30:00 PM</td>\n",
       "      <td>23.613</td>\n",
       "      <td>https://monitoring.solaredge.com/solaredge-web...</td>\n",
       "      <td>2015/09/01</td>\n",
       "      <td>1644402015-09-01 16:30:00</td>\n",
       "    </tr>\n",
       "    <tr>\n",
       "      <th>3</th>\n",
       "      <td>Southland Leisure Centre</td>\n",
       "      <td>164440</td>\n",
       "      <td>2000 SOUTHLAND DR SW</td>\n",
       "      <td>2015/09/01 05:30:00 PM</td>\n",
       "      <td>15.257</td>\n",
       "      <td>https://monitoring.solaredge.com/solaredge-web...</td>\n",
       "      <td>2015/09/01</td>\n",
       "      <td>1644402015-09-01 17:30:00</td>\n",
       "    </tr>\n",
       "    <tr>\n",
       "      <th>4</th>\n",
       "      <td>Southland Leisure Centre</td>\n",
       "      <td>164440</td>\n",
       "      <td>2000 SOUTHLAND DR SW</td>\n",
       "      <td>2015/09/01 06:30:00 PM</td>\n",
       "      <td>7.896</td>\n",
       "      <td>https://monitoring.solaredge.com/solaredge-web...</td>\n",
       "      <td>2015/09/01</td>\n",
       "      <td>1644402015-09-01 18:30:00</td>\n",
       "    </tr>\n",
       "  </tbody>\n",
       "</table>\n",
       "</div>"
      ],
      "text/plain": [
       "                       name      id               address  \\\n",
       "0  Southland Leisure Centre  164440  2000 SOUTHLAND DR SW   \n",
       "1  Southland Leisure Centre  164440  2000 SOUTHLAND DR SW   \n",
       "2  Southland Leisure Centre  164440  2000 SOUTHLAND DR SW   \n",
       "3  Southland Leisure Centre  164440  2000 SOUTHLAND DR SW   \n",
       "4  Southland Leisure Centre  164440  2000 SOUTHLAND DR SW   \n",
       "\n",
       "                     date     kWh  \\\n",
       "0  2015/09/01 02:30:00 PM  27.805   \n",
       "1  2015/09/01 03:30:00 PM  30.559   \n",
       "2  2015/09/01 04:30:00 PM  23.613   \n",
       "3  2015/09/01 05:30:00 PM  15.257   \n",
       "4  2015/09/01 06:30:00 PM   7.896   \n",
       "\n",
       "                                          public_url installationDate  \\\n",
       "0  https://monitoring.solaredge.com/solaredge-web...       2015/09/01   \n",
       "1  https://monitoring.solaredge.com/solaredge-web...       2015/09/01   \n",
       "2  https://monitoring.solaredge.com/solaredge-web...       2015/09/01   \n",
       "3  https://monitoring.solaredge.com/solaredge-web...       2015/09/01   \n",
       "4  https://monitoring.solaredge.com/solaredge-web...       2015/09/01   \n",
       "\n",
       "                         uid  \n",
       "0  1644402015-09-01 14:30:00  \n",
       "1  1644402015-09-01 15:30:00  \n",
       "2  1644402015-09-01 16:30:00  \n",
       "3  1644402015-09-01 17:30:00  \n",
       "4  1644402015-09-01 18:30:00  "
      ]
     },
     "execution_count": 3,
     "metadata": {},
     "output_type": "execute_result"
    }
   ],
   "source": [
    "df.head(5)"
   ]
  },
  {
   "cell_type": "code",
   "execution_count": 4,
   "id": "26ad2456",
   "metadata": {},
   "outputs": [
    {
     "data": {
      "text/plain": [
       "(264379, 8)"
      ]
     },
     "execution_count": 4,
     "metadata": {},
     "output_type": "execute_result"
    }
   ],
   "source": [
    "df.shape # (264379, 8)"
   ]
  },
  {
   "cell_type": "code",
   "execution_count": 5,
   "id": "eb916eb1",
   "metadata": {},
   "outputs": [
    {
     "data": {
      "text/html": [
       "<div>\n",
       "<style scoped>\n",
       "    .dataframe tbody tr th:only-of-type {\n",
       "        vertical-align: middle;\n",
       "    }\n",
       "\n",
       "    .dataframe tbody tr th {\n",
       "        vertical-align: top;\n",
       "    }\n",
       "\n",
       "    .dataframe thead th {\n",
       "        text-align: right;\n",
       "    }\n",
       "</style>\n",
       "<table border=\"1\" class=\"dataframe\">\n",
       "  <thead>\n",
       "    <tr style=\"text-align: right;\">\n",
       "      <th></th>\n",
       "      <th>name</th>\n",
       "      <th>id</th>\n",
       "      <th>address</th>\n",
       "      <th>date</th>\n",
       "      <th>kWh</th>\n",
       "      <th>public_url</th>\n",
       "      <th>installationDate</th>\n",
       "      <th>uid</th>\n",
       "    </tr>\n",
       "  </thead>\n",
       "  <tbody>\n",
       "    <tr>\n",
       "      <th>264374</th>\n",
       "      <td>Telus Spark</td>\n",
       "      <td>594148</td>\n",
       "      <td>220 ST GEORGES DR NE</td>\n",
       "      <td>2018/01/03 12:00:00 PM</td>\n",
       "      <td>9.092</td>\n",
       "      <td>https://monitoringpublic.solaredge.com/solared...</td>\n",
       "      <td>2017/11/27</td>\n",
       "      <td>5941482018-01-03 12:00:00</td>\n",
       "    </tr>\n",
       "    <tr>\n",
       "      <th>264375</th>\n",
       "      <td>Telus Spark</td>\n",
       "      <td>594148</td>\n",
       "      <td>220 ST GEORGES DR NE</td>\n",
       "      <td>2018/01/03 01:00:00 PM</td>\n",
       "      <td>9.979</td>\n",
       "      <td>https://monitoringpublic.solaredge.com/solared...</td>\n",
       "      <td>2017/11/27</td>\n",
       "      <td>5941482018-01-03 13:00:00</td>\n",
       "    </tr>\n",
       "    <tr>\n",
       "      <th>264376</th>\n",
       "      <td>Telus Spark</td>\n",
       "      <td>594148</td>\n",
       "      <td>220 ST GEORGES DR NE</td>\n",
       "      <td>2018/01/03 02:00:00 PM</td>\n",
       "      <td>8.423</td>\n",
       "      <td>https://monitoringpublic.solaredge.com/solared...</td>\n",
       "      <td>2017/11/27</td>\n",
       "      <td>5941482018-01-03 14:00:00</td>\n",
       "    </tr>\n",
       "    <tr>\n",
       "      <th>264377</th>\n",
       "      <td>Telus Spark</td>\n",
       "      <td>594148</td>\n",
       "      <td>220 ST GEORGES DR NE</td>\n",
       "      <td>2018/01/03 03:00:00 PM</td>\n",
       "      <td>4.346</td>\n",
       "      <td>https://monitoringpublic.solaredge.com/solared...</td>\n",
       "      <td>2017/11/27</td>\n",
       "      <td>5941482018-01-03 15:00:00</td>\n",
       "    </tr>\n",
       "    <tr>\n",
       "      <th>264378</th>\n",
       "      <td>Telus Spark</td>\n",
       "      <td>594148</td>\n",
       "      <td>220 ST GEORGES DR NE</td>\n",
       "      <td>2018/01/03 04:00:00 PM</td>\n",
       "      <td>0.335</td>\n",
       "      <td>https://monitoringpublic.solaredge.com/solared...</td>\n",
       "      <td>2017/11/27</td>\n",
       "      <td>5941482018-01-03 16:00:00</td>\n",
       "    </tr>\n",
       "  </tbody>\n",
       "</table>\n",
       "</div>"
      ],
      "text/plain": [
       "               name      id               address                    date  \\\n",
       "264374  Telus Spark  594148  220 ST GEORGES DR NE  2018/01/03 12:00:00 PM   \n",
       "264375  Telus Spark  594148  220 ST GEORGES DR NE  2018/01/03 01:00:00 PM   \n",
       "264376  Telus Spark  594148  220 ST GEORGES DR NE  2018/01/03 02:00:00 PM   \n",
       "264377  Telus Spark  594148  220 ST GEORGES DR NE  2018/01/03 03:00:00 PM   \n",
       "264378  Telus Spark  594148  220 ST GEORGES DR NE  2018/01/03 04:00:00 PM   \n",
       "\n",
       "          kWh                                         public_url  \\\n",
       "264374  9.092  https://monitoringpublic.solaredge.com/solared...   \n",
       "264375  9.979  https://monitoringpublic.solaredge.com/solared...   \n",
       "264376  8.423  https://monitoringpublic.solaredge.com/solared...   \n",
       "264377  4.346  https://monitoringpublic.solaredge.com/solared...   \n",
       "264378  0.335  https://monitoringpublic.solaredge.com/solared...   \n",
       "\n",
       "       installationDate                        uid  \n",
       "264374       2017/11/27  5941482018-01-03 12:00:00  \n",
       "264375       2017/11/27  5941482018-01-03 13:00:00  \n",
       "264376       2017/11/27  5941482018-01-03 14:00:00  \n",
       "264377       2017/11/27  5941482018-01-03 15:00:00  \n",
       "264378       2017/11/27  5941482018-01-03 16:00:00  "
      ]
     },
     "execution_count": 5,
     "metadata": {},
     "output_type": "execute_result"
    }
   ],
   "source": [
    "df.tail(5)"
   ]
  },
  {
   "cell_type": "code",
   "execution_count": 6,
   "id": "dbdbe003",
   "metadata": {},
   "outputs": [
    {
     "data": {
      "text/html": [
       "<div>\n",
       "<style scoped>\n",
       "    .dataframe tbody tr th:only-of-type {\n",
       "        vertical-align: middle;\n",
       "    }\n",
       "\n",
       "    .dataframe tbody tr th {\n",
       "        vertical-align: top;\n",
       "    }\n",
       "\n",
       "    .dataframe thead th {\n",
       "        text-align: right;\n",
       "    }\n",
       "</style>\n",
       "<table border=\"1\" class=\"dataframe\">\n",
       "  <thead>\n",
       "    <tr style=\"text-align: right;\">\n",
       "      <th></th>\n",
       "      <th>name</th>\n",
       "      <th>id</th>\n",
       "      <th>address</th>\n",
       "      <th>date</th>\n",
       "      <th>kWh</th>\n",
       "      <th>public_url</th>\n",
       "      <th>installationDate</th>\n",
       "      <th>uid</th>\n",
       "    </tr>\n",
       "  </thead>\n",
       "  <tbody>\n",
       "    <tr>\n",
       "      <th>176202</th>\n",
       "      <td>Glenmore Water Treatment Plant</td>\n",
       "      <td>355827</td>\n",
       "      <td>1634 56 AV SW</td>\n",
       "      <td>2019/07/14 12:00:00 PM</td>\n",
       "      <td>131.842</td>\n",
       "      <td>https://monitoringpublic.solaredge.com/solared...</td>\n",
       "      <td>2017/01/11</td>\n",
       "      <td>3558272019-07-14 12:00:00</td>\n",
       "    </tr>\n",
       "    <tr>\n",
       "      <th>222880</th>\n",
       "      <td>Manchester Building M</td>\n",
       "      <td>570079</td>\n",
       "      <td>651M 25 AV SE</td>\n",
       "      <td>2019/09/01 05:00:00 PM</td>\n",
       "      <td>3.741</td>\n",
       "      <td>https://monitoringpublic.solaredge.com/solared...</td>\n",
       "      <td>2017/10/23</td>\n",
       "      <td>5700792019-09-01 17:00:00</td>\n",
       "    </tr>\n",
       "    <tr>\n",
       "      <th>80162</th>\n",
       "      <td>Calgary Fire Hall Headquarters</td>\n",
       "      <td>314106</td>\n",
       "      <td>1212 42 AV SE</td>\n",
       "      <td>2022/09/16 07:00:00 AM</td>\n",
       "      <td>0.124</td>\n",
       "      <td>https://monitoringpublic.solaredge.com/solared...</td>\n",
       "      <td>2016/11/07</td>\n",
       "      <td>3141062022-09-16 07:00:00</td>\n",
       "    </tr>\n",
       "    <tr>\n",
       "      <th>248414</th>\n",
       "      <td>Bearspaw Water Treatment Plant</td>\n",
       "      <td>577650</td>\n",
       "      <td>11444 Bearspaw Dam RD NW</td>\n",
       "      <td>2019/10/19 01:00:00 PM</td>\n",
       "      <td>477.898</td>\n",
       "      <td>https://monitoringpublic.solaredge.com/solared...</td>\n",
       "      <td>2017/10/31</td>\n",
       "      <td>5776502019-10-19 13:00:00</td>\n",
       "    </tr>\n",
       "    <tr>\n",
       "      <th>126513</th>\n",
       "      <td>City of Calgary North Corporate Warehouse</td>\n",
       "      <td>331901</td>\n",
       "      <td>2340 22 ST NE</td>\n",
       "      <td>2020/07/18 05:00:00 AM</td>\n",
       "      <td>0.017</td>\n",
       "      <td>https://monitoringpublic.solaredge.com/solared...</td>\n",
       "      <td>2016/12/21</td>\n",
       "      <td>3319012020-07-18 05:00:00</td>\n",
       "    </tr>\n",
       "  </tbody>\n",
       "</table>\n",
       "</div>"
      ],
      "text/plain": [
       "                                             name      id  \\\n",
       "176202             Glenmore Water Treatment Plant  355827   \n",
       "222880                      Manchester Building M  570079   \n",
       "80162              Calgary Fire Hall Headquarters  314106   \n",
       "248414             Bearspaw Water Treatment Plant  577650   \n",
       "126513  City of Calgary North Corporate Warehouse  331901   \n",
       "\n",
       "                         address                    date      kWh  \\\n",
       "176202             1634 56 AV SW  2019/07/14 12:00:00 PM  131.842   \n",
       "222880             651M 25 AV SE  2019/09/01 05:00:00 PM    3.741   \n",
       "80162              1212 42 AV SE  2022/09/16 07:00:00 AM    0.124   \n",
       "248414  11444 Bearspaw Dam RD NW  2019/10/19 01:00:00 PM  477.898   \n",
       "126513             2340 22 ST NE  2020/07/18 05:00:00 AM    0.017   \n",
       "\n",
       "                                               public_url installationDate  \\\n",
       "176202  https://monitoringpublic.solaredge.com/solared...       2017/01/11   \n",
       "222880  https://monitoringpublic.solaredge.com/solared...       2017/10/23   \n",
       "80162   https://monitoringpublic.solaredge.com/solared...       2016/11/07   \n",
       "248414  https://monitoringpublic.solaredge.com/solared...       2017/10/31   \n",
       "126513  https://monitoringpublic.solaredge.com/solared...       2016/12/21   \n",
       "\n",
       "                              uid  \n",
       "176202  3558272019-07-14 12:00:00  \n",
       "222880  5700792019-09-01 17:00:00  \n",
       "80162   3141062022-09-16 07:00:00  \n",
       "248414  5776502019-10-19 13:00:00  \n",
       "126513  3319012020-07-18 05:00:00  "
      ]
     },
     "execution_count": 6,
     "metadata": {},
     "output_type": "execute_result"
    }
   ],
   "source": [
    "df.sample(5)"
   ]
  },
  {
   "cell_type": "code",
   "execution_count": 7,
   "id": "eeb70559",
   "metadata": {},
   "outputs": [
    {
     "name": "stdout",
     "output_type": "stream",
     "text": [
      "<class 'pandas.core.frame.DataFrame'>\n",
      "RangeIndex: 264379 entries, 0 to 264378\n",
      "Data columns (total 8 columns):\n",
      " #   Column            Non-Null Count   Dtype  \n",
      "---  ------            --------------   -----  \n",
      " 0   name              264379 non-null  object \n",
      " 1   id                264379 non-null  int64  \n",
      " 2   address           264379 non-null  object \n",
      " 3   date              264379 non-null  object \n",
      " 4   kWh               264379 non-null  float64\n",
      " 5   public_url        264379 non-null  object \n",
      " 6   installationDate  264379 non-null  object \n",
      " 7   uid               264379 non-null  object \n",
      "dtypes: float64(1), int64(1), object(6)\n",
      "memory usage: 16.1+ MB\n"
     ]
    }
   ],
   "source": [
    "df.info() # no missing values"
   ]
  },
  {
   "cell_type": "code",
   "execution_count": 8,
   "id": "fe32a9bf",
   "metadata": {},
   "outputs": [
    {
     "data": {
      "text/html": [
       "<div>\n",
       "<style scoped>\n",
       "    .dataframe tbody tr th:only-of-type {\n",
       "        vertical-align: middle;\n",
       "    }\n",
       "\n",
       "    .dataframe tbody tr th {\n",
       "        vertical-align: top;\n",
       "    }\n",
       "\n",
       "    .dataframe thead th {\n",
       "        text-align: right;\n",
       "    }\n",
       "</style>\n",
       "<table border=\"1\" class=\"dataframe\">\n",
       "  <thead>\n",
       "    <tr style=\"text-align: right;\">\n",
       "      <th></th>\n",
       "      <th>count</th>\n",
       "      <th>mean</th>\n",
       "      <th>std</th>\n",
       "      <th>min</th>\n",
       "      <th>25%</th>\n",
       "      <th>50%</th>\n",
       "      <th>75%</th>\n",
       "      <th>max</th>\n",
       "    </tr>\n",
       "  </thead>\n",
       "  <tbody>\n",
       "    <tr>\n",
       "      <th>id</th>\n",
       "      <td>264379.0</td>\n",
       "      <td>372863.361840</td>\n",
       "      <td>130424.590450</td>\n",
       "      <td>164440.0</td>\n",
       "      <td>314106.000</td>\n",
       "      <td>331901.00</td>\n",
       "      <td>551172.0000</td>\n",
       "      <td>594148.000</td>\n",
       "    </tr>\n",
       "    <tr>\n",
       "      <th>kWh</th>\n",
       "      <td>264379.0</td>\n",
       "      <td>38.041129</td>\n",
       "      <td>71.315762</td>\n",
       "      <td>0.0</td>\n",
       "      <td>1.392</td>\n",
       "      <td>8.11</td>\n",
       "      <td>36.0675</td>\n",
       "      <td>514.462</td>\n",
       "    </tr>\n",
       "  </tbody>\n",
       "</table>\n",
       "</div>"
      ],
      "text/plain": [
       "        count           mean            std       min         25%        50%  \\\n",
       "id   264379.0  372863.361840  130424.590450  164440.0  314106.000  331901.00   \n",
       "kWh  264379.0      38.041129      71.315762       0.0       1.392       8.11   \n",
       "\n",
       "             75%         max  \n",
       "id   551172.0000  594148.000  \n",
       "kWh      36.0675     514.462  "
      ]
     },
     "execution_count": 8,
     "metadata": {},
     "output_type": "execute_result"
    }
   ],
   "source": [
    "df.describe().T"
   ]
  },
  {
   "cell_type": "code",
   "execution_count": 9,
   "id": "d59e6a4c",
   "metadata": {},
   "outputs": [
    {
     "data": {
      "text/html": [
       "<div>\n",
       "<style scoped>\n",
       "    .dataframe tbody tr th:only-of-type {\n",
       "        vertical-align: middle;\n",
       "    }\n",
       "\n",
       "    .dataframe tbody tr th {\n",
       "        vertical-align: top;\n",
       "    }\n",
       "\n",
       "    .dataframe thead th {\n",
       "        text-align: right;\n",
       "    }\n",
       "</style>\n",
       "<table border=\"1\" class=\"dataframe\">\n",
       "  <thead>\n",
       "    <tr style=\"text-align: right;\">\n",
       "      <th></th>\n",
       "      <th>count</th>\n",
       "      <th>unique</th>\n",
       "      <th>top</th>\n",
       "      <th>freq</th>\n",
       "      <th>mean</th>\n",
       "      <th>std</th>\n",
       "      <th>min</th>\n",
       "      <th>25%</th>\n",
       "      <th>50%</th>\n",
       "      <th>75%</th>\n",
       "      <th>max</th>\n",
       "    </tr>\n",
       "  </thead>\n",
       "  <tbody>\n",
       "    <tr>\n",
       "      <th>name</th>\n",
       "      <td>264379</td>\n",
       "      <td>11</td>\n",
       "      <td>Southland Leisure Centre</td>\n",
       "      <td>32218</td>\n",
       "      <td>NaN</td>\n",
       "      <td>NaN</td>\n",
       "      <td>NaN</td>\n",
       "      <td>NaN</td>\n",
       "      <td>NaN</td>\n",
       "      <td>NaN</td>\n",
       "      <td>NaN</td>\n",
       "    </tr>\n",
       "    <tr>\n",
       "      <th>id</th>\n",
       "      <td>264379.0</td>\n",
       "      <td>NaN</td>\n",
       "      <td>NaN</td>\n",
       "      <td>NaN</td>\n",
       "      <td>372863.36184</td>\n",
       "      <td>130424.59045</td>\n",
       "      <td>164440.0</td>\n",
       "      <td>314106.0</td>\n",
       "      <td>331901.0</td>\n",
       "      <td>551172.0</td>\n",
       "      <td>594148.0</td>\n",
       "    </tr>\n",
       "    <tr>\n",
       "      <th>address</th>\n",
       "      <td>264379</td>\n",
       "      <td>11</td>\n",
       "      <td>2000 SOUTHLAND DR SW</td>\n",
       "      <td>32218</td>\n",
       "      <td>NaN</td>\n",
       "      <td>NaN</td>\n",
       "      <td>NaN</td>\n",
       "      <td>NaN</td>\n",
       "      <td>NaN</td>\n",
       "      <td>NaN</td>\n",
       "      <td>NaN</td>\n",
       "    </tr>\n",
       "    <tr>\n",
       "      <th>date</th>\n",
       "      <td>264379</td>\n",
       "      <td>36829</td>\n",
       "      <td>2017/12/12 10:00:00 AM</td>\n",
       "      <td>11</td>\n",
       "      <td>NaN</td>\n",
       "      <td>NaN</td>\n",
       "      <td>NaN</td>\n",
       "      <td>NaN</td>\n",
       "      <td>NaN</td>\n",
       "      <td>NaN</td>\n",
       "      <td>NaN</td>\n",
       "    </tr>\n",
       "    <tr>\n",
       "      <th>kWh</th>\n",
       "      <td>264379.0</td>\n",
       "      <td>NaN</td>\n",
       "      <td>NaN</td>\n",
       "      <td>NaN</td>\n",
       "      <td>38.041129</td>\n",
       "      <td>71.315762</td>\n",
       "      <td>0.0</td>\n",
       "      <td>1.392</td>\n",
       "      <td>8.11</td>\n",
       "      <td>36.0675</td>\n",
       "      <td>514.462</td>\n",
       "    </tr>\n",
       "    <tr>\n",
       "      <th>public_url</th>\n",
       "      <td>264379</td>\n",
       "      <td>22</td>\n",
       "      <td>https://monitoringpublic.solaredge.com/solared...</td>\n",
       "      <td>25166</td>\n",
       "      <td>NaN</td>\n",
       "      <td>NaN</td>\n",
       "      <td>NaN</td>\n",
       "      <td>NaN</td>\n",
       "      <td>NaN</td>\n",
       "      <td>NaN</td>\n",
       "      <td>NaN</td>\n",
       "    </tr>\n",
       "    <tr>\n",
       "      <th>installationDate</th>\n",
       "      <td>264379</td>\n",
       "      <td>11</td>\n",
       "      <td>2015/09/01</td>\n",
       "      <td>32218</td>\n",
       "      <td>NaN</td>\n",
       "      <td>NaN</td>\n",
       "      <td>NaN</td>\n",
       "      <td>NaN</td>\n",
       "      <td>NaN</td>\n",
       "      <td>NaN</td>\n",
       "      <td>NaN</td>\n",
       "    </tr>\n",
       "    <tr>\n",
       "      <th>uid</th>\n",
       "      <td>264379</td>\n",
       "      <td>264379</td>\n",
       "      <td>1644402015-09-01 14:30:00</td>\n",
       "      <td>1</td>\n",
       "      <td>NaN</td>\n",
       "      <td>NaN</td>\n",
       "      <td>NaN</td>\n",
       "      <td>NaN</td>\n",
       "      <td>NaN</td>\n",
       "      <td>NaN</td>\n",
       "      <td>NaN</td>\n",
       "    </tr>\n",
       "  </tbody>\n",
       "</table>\n",
       "</div>"
      ],
      "text/plain": [
       "                     count  unique  \\\n",
       "name                264379      11   \n",
       "id                264379.0     NaN   \n",
       "address             264379      11   \n",
       "date                264379   36829   \n",
       "kWh               264379.0     NaN   \n",
       "public_url          264379      22   \n",
       "installationDate    264379      11   \n",
       "uid                 264379  264379   \n",
       "\n",
       "                                                                top   freq  \\\n",
       "name                                       Southland Leisure Centre  32218   \n",
       "id                                                              NaN    NaN   \n",
       "address                                        2000 SOUTHLAND DR SW  32218   \n",
       "date                                         2017/12/12 10:00:00 AM     11   \n",
       "kWh                                                             NaN    NaN   \n",
       "public_url        https://monitoringpublic.solaredge.com/solared...  25166   \n",
       "installationDate                                         2015/09/01  32218   \n",
       "uid                                       1644402015-09-01 14:30:00      1   \n",
       "\n",
       "                          mean           std       min       25%       50%  \\\n",
       "name                       NaN           NaN       NaN       NaN       NaN   \n",
       "id                372863.36184  130424.59045  164440.0  314106.0  331901.0   \n",
       "address                    NaN           NaN       NaN       NaN       NaN   \n",
       "date                       NaN           NaN       NaN       NaN       NaN   \n",
       "kWh                  38.041129     71.315762       0.0     1.392      8.11   \n",
       "public_url                 NaN           NaN       NaN       NaN       NaN   \n",
       "installationDate           NaN           NaN       NaN       NaN       NaN   \n",
       "uid                        NaN           NaN       NaN       NaN       NaN   \n",
       "\n",
       "                       75%       max  \n",
       "name                   NaN       NaN  \n",
       "id                551172.0  594148.0  \n",
       "address                NaN       NaN  \n",
       "date                   NaN       NaN  \n",
       "kWh                36.0675   514.462  \n",
       "public_url             NaN       NaN  \n",
       "installationDate       NaN       NaN  \n",
       "uid                    NaN       NaN  "
      ]
     },
     "execution_count": 9,
     "metadata": {},
     "output_type": "execute_result"
    }
   ],
   "source": [
    "df.describe(include='all').T"
   ]
  },
  {
   "cell_type": "code",
   "execution_count": 10,
   "id": "3c4b4bdd",
   "metadata": {},
   "outputs": [
    {
     "data": {
      "text/plain": [
       "name                0\n",
       "id                  0\n",
       "address             0\n",
       "date                0\n",
       "kWh                 0\n",
       "public_url          0\n",
       "installationDate    0\n",
       "uid                 0\n",
       "dtype: int64"
      ]
     },
     "execution_count": 10,
     "metadata": {},
     "output_type": "execute_result"
    }
   ],
   "source": [
    "df.isnull().sum()"
   ]
  },
  {
   "cell_type": "code",
   "execution_count": 11,
   "id": "eb3a565e",
   "metadata": {},
   "outputs": [
    {
     "data": {
      "text/plain": [
       "name                0\n",
       "id                  0\n",
       "address             0\n",
       "date                0\n",
       "kWh                 0\n",
       "public_url          0\n",
       "installationDate    0\n",
       "uid                 0\n",
       "dtype: int64"
      ]
     },
     "execution_count": 11,
     "metadata": {},
     "output_type": "execute_result"
    }
   ],
   "source": [
    "df[df.isnull()].count()"
   ]
  },
  {
   "cell_type": "code",
   "execution_count": 12,
   "id": "67fb1857",
   "metadata": {},
   "outputs": [
    {
     "data": {
      "text/plain": [
       "['name',\n",
       " 'id',\n",
       " 'address',\n",
       " 'date',\n",
       " 'kWh',\n",
       " 'public_url',\n",
       " 'installationDate',\n",
       " 'uid']"
      ]
     },
     "execution_count": 12,
     "metadata": {},
     "output_type": "execute_result"
    }
   ],
   "source": [
    "[features for features in df.columns]"
   ]
  },
  {
   "cell_type": "code",
   "execution_count": 13,
   "id": "730f2098",
   "metadata": {},
   "outputs": [
    {
     "data": {
      "text/html": [
       "<div>\n",
       "<style scoped>\n",
       "    .dataframe tbody tr th:only-of-type {\n",
       "        vertical-align: middle;\n",
       "    }\n",
       "\n",
       "    .dataframe tbody tr th {\n",
       "        vertical-align: top;\n",
       "    }\n",
       "\n",
       "    .dataframe thead th {\n",
       "        text-align: right;\n",
       "    }\n",
       "</style>\n",
       "<table border=\"1\" class=\"dataframe\">\n",
       "  <thead>\n",
       "    <tr style=\"text-align: right;\">\n",
       "      <th></th>\n",
       "      <th>name</th>\n",
       "      <th>id</th>\n",
       "      <th>address</th>\n",
       "      <th>date</th>\n",
       "      <th>kWh</th>\n",
       "      <th>public_url</th>\n",
       "      <th>installationDate</th>\n",
       "      <th>uid</th>\n",
       "    </tr>\n",
       "  </thead>\n",
       "  <tbody>\n",
       "    <tr>\n",
       "      <th>0</th>\n",
       "      <td>Southland Leisure Centre</td>\n",
       "      <td>164440</td>\n",
       "      <td>2000 SOUTHLAND DR SW</td>\n",
       "      <td>2015/09/01 02:30:00 PM</td>\n",
       "      <td>27.805</td>\n",
       "      <td>https://monitoring.solaredge.com/solaredge-web...</td>\n",
       "      <td>2015/09/01</td>\n",
       "      <td>1644402015-09-01 14:30:00</td>\n",
       "    </tr>\n",
       "    <tr>\n",
       "      <th>1</th>\n",
       "      <td>Southland Leisure Centre</td>\n",
       "      <td>164440</td>\n",
       "      <td>2000 SOUTHLAND DR SW</td>\n",
       "      <td>2015/09/01 03:30:00 PM</td>\n",
       "      <td>30.559</td>\n",
       "      <td>https://monitoring.solaredge.com/solaredge-web...</td>\n",
       "      <td>2015/09/01</td>\n",
       "      <td>1644402015-09-01 15:30:00</td>\n",
       "    </tr>\n",
       "    <tr>\n",
       "      <th>2</th>\n",
       "      <td>Southland Leisure Centre</td>\n",
       "      <td>164440</td>\n",
       "      <td>2000 SOUTHLAND DR SW</td>\n",
       "      <td>2015/09/01 04:30:00 PM</td>\n",
       "      <td>23.613</td>\n",
       "      <td>https://monitoring.solaredge.com/solaredge-web...</td>\n",
       "      <td>2015/09/01</td>\n",
       "      <td>1644402015-09-01 16:30:00</td>\n",
       "    </tr>\n",
       "    <tr>\n",
       "      <th>3</th>\n",
       "      <td>Southland Leisure Centre</td>\n",
       "      <td>164440</td>\n",
       "      <td>2000 SOUTHLAND DR SW</td>\n",
       "      <td>2015/09/01 05:30:00 PM</td>\n",
       "      <td>15.257</td>\n",
       "      <td>https://monitoring.solaredge.com/solaredge-web...</td>\n",
       "      <td>2015/09/01</td>\n",
       "      <td>1644402015-09-01 17:30:00</td>\n",
       "    </tr>\n",
       "    <tr>\n",
       "      <th>4</th>\n",
       "      <td>Southland Leisure Centre</td>\n",
       "      <td>164440</td>\n",
       "      <td>2000 SOUTHLAND DR SW</td>\n",
       "      <td>2015/09/01 06:30:00 PM</td>\n",
       "      <td>7.896</td>\n",
       "      <td>https://monitoring.solaredge.com/solaredge-web...</td>\n",
       "      <td>2015/09/01</td>\n",
       "      <td>1644402015-09-01 18:30:00</td>\n",
       "    </tr>\n",
       "  </tbody>\n",
       "</table>\n",
       "</div>"
      ],
      "text/plain": [
       "                       name      id               address  \\\n",
       "0  Southland Leisure Centre  164440  2000 SOUTHLAND DR SW   \n",
       "1  Southland Leisure Centre  164440  2000 SOUTHLAND DR SW   \n",
       "2  Southland Leisure Centre  164440  2000 SOUTHLAND DR SW   \n",
       "3  Southland Leisure Centre  164440  2000 SOUTHLAND DR SW   \n",
       "4  Southland Leisure Centre  164440  2000 SOUTHLAND DR SW   \n",
       "\n",
       "                     date     kWh  \\\n",
       "0  2015/09/01 02:30:00 PM  27.805   \n",
       "1  2015/09/01 03:30:00 PM  30.559   \n",
       "2  2015/09/01 04:30:00 PM  23.613   \n",
       "3  2015/09/01 05:30:00 PM  15.257   \n",
       "4  2015/09/01 06:30:00 PM   7.896   \n",
       "\n",
       "                                          public_url installationDate  \\\n",
       "0  https://monitoring.solaredge.com/solaredge-web...       2015/09/01   \n",
       "1  https://monitoring.solaredge.com/solaredge-web...       2015/09/01   \n",
       "2  https://monitoring.solaredge.com/solaredge-web...       2015/09/01   \n",
       "3  https://monitoring.solaredge.com/solaredge-web...       2015/09/01   \n",
       "4  https://monitoring.solaredge.com/solaredge-web...       2015/09/01   \n",
       "\n",
       "                         uid  \n",
       "0  1644402015-09-01 14:30:00  \n",
       "1  1644402015-09-01 15:30:00  \n",
       "2  1644402015-09-01 16:30:00  \n",
       "3  1644402015-09-01 17:30:00  \n",
       "4  1644402015-09-01 18:30:00  "
      ]
     },
     "execution_count": 13,
     "metadata": {},
     "output_type": "execute_result"
    }
   ],
   "source": [
    "df.head()"
   ]
  },
  {
   "cell_type": "markdown",
   "id": "eed372e1",
   "metadata": {},
   "source": [
    "# Seperating categorical and numerical featutes"
   ]
  },
  {
   "cell_type": "code",
   "execution_count": 14,
   "id": "ea1d0964",
   "metadata": {},
   "outputs": [
    {
     "data": {
      "text/plain": [
       "array(['Southland Leisure Centre',\n",
       "       'Hillhurst Sunnyside Community Association',\n",
       "       'Calgary Fire Hall Headquarters', 'Whitehorn Multi-Service Centre',\n",
       "       'City of Calgary North Corporate Warehouse',\n",
       "       'Richmond - Knob Hill Community Hall',\n",
       "       'Glenmore Water Treatment Plant', 'CFD Firehall #7',\n",
       "       'Manchester Building M', 'Bearspaw Water Treatment Plant',\n",
       "       'Telus Spark'], dtype=object)"
      ]
     },
     "execution_count": 14,
     "metadata": {},
     "output_type": "execute_result"
    }
   ],
   "source": [
    "df['name'].unique()"
   ]
  },
  {
   "cell_type": "code",
   "execution_count": 15,
   "id": "65e6fa41",
   "metadata": {},
   "outputs": [
    {
     "data": {
      "text/plain": [
       "11"
      ]
     },
     "execution_count": 15,
     "metadata": {},
     "output_type": "execute_result"
    }
   ],
   "source": [
    "len(df['name'].unique())"
   ]
  },
  {
   "cell_type": "code",
   "execution_count": 16,
   "id": "292f53d2",
   "metadata": {},
   "outputs": [
    {
     "data": {
      "text/plain": [
       "array([164440, 308057, 314106, 319086, 331901, 332785, 355827, 551172,\n",
       "       570079, 577650, 594148])"
      ]
     },
     "execution_count": 16,
     "metadata": {},
     "output_type": "execute_result"
    }
   ],
   "source": [
    "df['id'].unique()"
   ]
  },
  {
   "cell_type": "code",
   "execution_count": 17,
   "id": "93b03827",
   "metadata": {},
   "outputs": [
    {
     "data": {
      "text/plain": [
       "11"
      ]
     },
     "execution_count": 17,
     "metadata": {},
     "output_type": "execute_result"
    }
   ],
   "source": [
    "len(df['id'].unique())"
   ]
  },
  {
   "cell_type": "code",
   "execution_count": 18,
   "id": "580ce4d6",
   "metadata": {},
   "outputs": [
    {
     "data": {
      "text/plain": [
       "array(['2015/09/01', '2016/09/25', '2016/11/07', '2016/12/13',\n",
       "       '2016/12/21', '2016/11/21', '2017/01/11', '2017/09/13',\n",
       "       '2017/10/23', '2017/10/31', '2017/11/27'], dtype=object)"
      ]
     },
     "execution_count": 18,
     "metadata": {},
     "output_type": "execute_result"
    }
   ],
   "source": [
    "df['installationDate'].unique()"
   ]
  },
  {
   "cell_type": "code",
   "execution_count": 19,
   "id": "ca0afeb1",
   "metadata": {},
   "outputs": [
    {
     "data": {
      "text/plain": [
       "array(['2015/09/01', '2016/09/25', '2016/11/07', '2016/12/13',\n",
       "       '2016/12/21', '2016/11/21', '2017/01/11', '2017/09/13',\n",
       "       '2017/10/23', '2017/10/31', '2017/11/27'], dtype=object)"
      ]
     },
     "execution_count": 19,
     "metadata": {},
     "output_type": "execute_result"
    }
   ],
   "source": [
    "df['installationDate'].unique()"
   ]
  },
  {
   "cell_type": "code",
   "execution_count": 20,
   "id": "2b84f67b",
   "metadata": {},
   "outputs": [
    {
     "data": {
      "text/html": [
       "<div>\n",
       "<style scoped>\n",
       "    .dataframe tbody tr th:only-of-type {\n",
       "        vertical-align: middle;\n",
       "    }\n",
       "\n",
       "    .dataframe tbody tr th {\n",
       "        vertical-align: top;\n",
       "    }\n",
       "\n",
       "    .dataframe thead th {\n",
       "        text-align: right;\n",
       "    }\n",
       "</style>\n",
       "<table border=\"1\" class=\"dataframe\">\n",
       "  <thead>\n",
       "    <tr style=\"text-align: right;\">\n",
       "      <th></th>\n",
       "      <th>name</th>\n",
       "      <th>installationDate</th>\n",
       "      <th>id</th>\n",
       "      <th>kWh</th>\n",
       "    </tr>\n",
       "  </thead>\n",
       "  <tbody>\n",
       "    <tr>\n",
       "      <th>0</th>\n",
       "      <td>Bearspaw Water Treatment Plant</td>\n",
       "      <td>2017/10/31</td>\n",
       "      <td>577650</td>\n",
       "      <td>3137255.468</td>\n",
       "    </tr>\n",
       "    <tr>\n",
       "      <th>1</th>\n",
       "      <td>Whitehorn Multi-Service Centre</td>\n",
       "      <td>2016/12/13</td>\n",
       "      <td>319086</td>\n",
       "      <td>2636091.515</td>\n",
       "    </tr>\n",
       "    <tr>\n",
       "      <th>2</th>\n",
       "      <td>Glenmore Water Treatment Plant</td>\n",
       "      <td>2017/01/11</td>\n",
       "      <td>355827</td>\n",
       "      <td>1567049.359</td>\n",
       "    </tr>\n",
       "    <tr>\n",
       "      <th>3</th>\n",
       "      <td>Southland Leisure Centre</td>\n",
       "      <td>2015/09/01</td>\n",
       "      <td>164440</td>\n",
       "      <td>1173293.844</td>\n",
       "    </tr>\n",
       "    <tr>\n",
       "      <th>4</th>\n",
       "      <td>City of Calgary North Corporate Warehouse</td>\n",
       "      <td>2016/12/21</td>\n",
       "      <td>331901</td>\n",
       "      <td>793814.564</td>\n",
       "    </tr>\n",
       "    <tr>\n",
       "      <th>5</th>\n",
       "      <td>Hillhurst Sunnyside Community Association</td>\n",
       "      <td>2016/09/25</td>\n",
       "      <td>308057</td>\n",
       "      <td>191935.962</td>\n",
       "    </tr>\n",
       "    <tr>\n",
       "      <th>6</th>\n",
       "      <td>Manchester Building M</td>\n",
       "      <td>2017/10/23</td>\n",
       "      <td>570079</td>\n",
       "      <td>188605.876</td>\n",
       "    </tr>\n",
       "    <tr>\n",
       "      <th>7</th>\n",
       "      <td>CFD Firehall #7</td>\n",
       "      <td>2017/09/13</td>\n",
       "      <td>551172</td>\n",
       "      <td>176669.672</td>\n",
       "    </tr>\n",
       "    <tr>\n",
       "      <th>8</th>\n",
       "      <td>Calgary Fire Hall Headquarters</td>\n",
       "      <td>2016/11/07</td>\n",
       "      <td>314106</td>\n",
       "      <td>113768.440</td>\n",
       "    </tr>\n",
       "    <tr>\n",
       "      <th>9</th>\n",
       "      <td>Richmond - Knob Hill Community Hall</td>\n",
       "      <td>2016/11/21</td>\n",
       "      <td>332785</td>\n",
       "      <td>77456.335</td>\n",
       "    </tr>\n",
       "    <tr>\n",
       "      <th>10</th>\n",
       "      <td>Telus Spark</td>\n",
       "      <td>2017/11/27</td>\n",
       "      <td>594148</td>\n",
       "      <td>1334.574</td>\n",
       "    </tr>\n",
       "  </tbody>\n",
       "</table>\n",
       "</div>"
      ],
      "text/plain": [
       "                                         name installationDate      id  \\\n",
       "0              Bearspaw Water Treatment Plant       2017/10/31  577650   \n",
       "1              Whitehorn Multi-Service Centre       2016/12/13  319086   \n",
       "2              Glenmore Water Treatment Plant       2017/01/11  355827   \n",
       "3                    Southland Leisure Centre       2015/09/01  164440   \n",
       "4   City of Calgary North Corporate Warehouse       2016/12/21  331901   \n",
       "5   Hillhurst Sunnyside Community Association       2016/09/25  308057   \n",
       "6                       Manchester Building M       2017/10/23  570079   \n",
       "7                             CFD Firehall #7       2017/09/13  551172   \n",
       "8              Calgary Fire Hall Headquarters       2016/11/07  314106   \n",
       "9         Richmond - Knob Hill Community Hall       2016/11/21  332785   \n",
       "10                                Telus Spark       2017/11/27  594148   \n",
       "\n",
       "            kWh  \n",
       "0   3137255.468  \n",
       "1   2636091.515  \n",
       "2   1567049.359  \n",
       "3   1173293.844  \n",
       "4    793814.564  \n",
       "5    191935.962  \n",
       "6    188605.876  \n",
       "7    176669.672  \n",
       "8    113768.440  \n",
       "9     77456.335  \n",
       "10     1334.574  "
      ]
     },
     "execution_count": 20,
     "metadata": {},
     "output_type": "execute_result"
    }
   ],
   "source": [
    "df.groupby(['name','installationDate','id'])['kWh'].sum().sort_values(ascending =False).reset_index()"
   ]
  },
  {
   "cell_type": "code",
   "execution_count": 21,
   "id": "4348af53",
   "metadata": {},
   "outputs": [
    {
     "data": {
      "text/html": [
       "<div>\n",
       "<style scoped>\n",
       "    .dataframe tbody tr th:only-of-type {\n",
       "        vertical-align: middle;\n",
       "    }\n",
       "\n",
       "    .dataframe tbody tr th {\n",
       "        vertical-align: top;\n",
       "    }\n",
       "\n",
       "    .dataframe thead th {\n",
       "        text-align: right;\n",
       "    }\n",
       "</style>\n",
       "<table border=\"1\" class=\"dataframe\">\n",
       "  <thead>\n",
       "    <tr style=\"text-align: right;\">\n",
       "      <th></th>\n",
       "      <th>name</th>\n",
       "      <th>id</th>\n",
       "      <th>address</th>\n",
       "      <th>date</th>\n",
       "      <th>kWh</th>\n",
       "      <th>public_url</th>\n",
       "      <th>installationDate</th>\n",
       "      <th>uid</th>\n",
       "    </tr>\n",
       "  </thead>\n",
       "  <tbody>\n",
       "  </tbody>\n",
       "</table>\n",
       "</div>"
      ],
      "text/plain": [
       "Empty DataFrame\n",
       "Columns: [name, id, address, date, kWh, public_url, installationDate, uid]\n",
       "Index: []"
      ]
     },
     "execution_count": 21,
     "metadata": {},
     "output_type": "execute_result"
    }
   ],
   "source": [
    "df[df.duplicated()] # no data is duplicated"
   ]
  },
  {
   "cell_type": "code",
   "execution_count": 22,
   "id": "c3fd5c7f",
   "metadata": {},
   "outputs": [
    {
     "data": {
      "text/plain": [
       "name                 object\n",
       "id                    int64\n",
       "address              object\n",
       "date                 object\n",
       "kWh                 float64\n",
       "public_url           object\n",
       "installationDate     object\n",
       "uid                  object\n",
       "dtype: object"
      ]
     },
     "execution_count": 22,
     "metadata": {},
     "output_type": "execute_result"
    }
   ],
   "source": [
    "df.dtypes"
   ]
  },
  {
   "cell_type": "code",
   "execution_count": 23,
   "id": "373aa7bd",
   "metadata": {},
   "outputs": [],
   "source": [
    "df_copy = df.copy()"
   ]
  },
  {
   "cell_type": "code",
   "execution_count": 24,
   "id": "01df05c7",
   "metadata": {},
   "outputs": [
    {
     "data": {
      "text/html": [
       "<div>\n",
       "<style scoped>\n",
       "    .dataframe tbody tr th:only-of-type {\n",
       "        vertical-align: middle;\n",
       "    }\n",
       "\n",
       "    .dataframe tbody tr th {\n",
       "        vertical-align: top;\n",
       "    }\n",
       "\n",
       "    .dataframe thead th {\n",
       "        text-align: right;\n",
       "    }\n",
       "</style>\n",
       "<table border=\"1\" class=\"dataframe\">\n",
       "  <thead>\n",
       "    <tr style=\"text-align: right;\">\n",
       "      <th></th>\n",
       "      <th>name</th>\n",
       "      <th>id</th>\n",
       "      <th>address</th>\n",
       "      <th>date</th>\n",
       "      <th>kWh</th>\n",
       "      <th>public_url</th>\n",
       "      <th>installationDate</th>\n",
       "      <th>uid</th>\n",
       "    </tr>\n",
       "  </thead>\n",
       "  <tbody>\n",
       "    <tr>\n",
       "      <th>0</th>\n",
       "      <td>Southland Leisure Centre</td>\n",
       "      <td>164440</td>\n",
       "      <td>2000 SOUTHLAND DR SW</td>\n",
       "      <td>2015/09/01 02:30:00 PM</td>\n",
       "      <td>27.805</td>\n",
       "      <td>https://monitoring.solaredge.com/solaredge-web...</td>\n",
       "      <td>2015/09/01</td>\n",
       "      <td>1644402015-09-01 14:30:00</td>\n",
       "    </tr>\n",
       "    <tr>\n",
       "      <th>1</th>\n",
       "      <td>Southland Leisure Centre</td>\n",
       "      <td>164440</td>\n",
       "      <td>2000 SOUTHLAND DR SW</td>\n",
       "      <td>2015/09/01 03:30:00 PM</td>\n",
       "      <td>30.559</td>\n",
       "      <td>https://monitoring.solaredge.com/solaredge-web...</td>\n",
       "      <td>2015/09/01</td>\n",
       "      <td>1644402015-09-01 15:30:00</td>\n",
       "    </tr>\n",
       "    <tr>\n",
       "      <th>2</th>\n",
       "      <td>Southland Leisure Centre</td>\n",
       "      <td>164440</td>\n",
       "      <td>2000 SOUTHLAND DR SW</td>\n",
       "      <td>2015/09/01 04:30:00 PM</td>\n",
       "      <td>23.613</td>\n",
       "      <td>https://monitoring.solaredge.com/solaredge-web...</td>\n",
       "      <td>2015/09/01</td>\n",
       "      <td>1644402015-09-01 16:30:00</td>\n",
       "    </tr>\n",
       "    <tr>\n",
       "      <th>3</th>\n",
       "      <td>Southland Leisure Centre</td>\n",
       "      <td>164440</td>\n",
       "      <td>2000 SOUTHLAND DR SW</td>\n",
       "      <td>2015/09/01 05:30:00 PM</td>\n",
       "      <td>15.257</td>\n",
       "      <td>https://monitoring.solaredge.com/solaredge-web...</td>\n",
       "      <td>2015/09/01</td>\n",
       "      <td>1644402015-09-01 17:30:00</td>\n",
       "    </tr>\n",
       "    <tr>\n",
       "      <th>4</th>\n",
       "      <td>Southland Leisure Centre</td>\n",
       "      <td>164440</td>\n",
       "      <td>2000 SOUTHLAND DR SW</td>\n",
       "      <td>2015/09/01 06:30:00 PM</td>\n",
       "      <td>7.896</td>\n",
       "      <td>https://monitoring.solaredge.com/solaredge-web...</td>\n",
       "      <td>2015/09/01</td>\n",
       "      <td>1644402015-09-01 18:30:00</td>\n",
       "    </tr>\n",
       "  </tbody>\n",
       "</table>\n",
       "</div>"
      ],
      "text/plain": [
       "                       name      id               address  \\\n",
       "0  Southland Leisure Centre  164440  2000 SOUTHLAND DR SW   \n",
       "1  Southland Leisure Centre  164440  2000 SOUTHLAND DR SW   \n",
       "2  Southland Leisure Centre  164440  2000 SOUTHLAND DR SW   \n",
       "3  Southland Leisure Centre  164440  2000 SOUTHLAND DR SW   \n",
       "4  Southland Leisure Centre  164440  2000 SOUTHLAND DR SW   \n",
       "\n",
       "                     date     kWh  \\\n",
       "0  2015/09/01 02:30:00 PM  27.805   \n",
       "1  2015/09/01 03:30:00 PM  30.559   \n",
       "2  2015/09/01 04:30:00 PM  23.613   \n",
       "3  2015/09/01 05:30:00 PM  15.257   \n",
       "4  2015/09/01 06:30:00 PM   7.896   \n",
       "\n",
       "                                          public_url installationDate  \\\n",
       "0  https://monitoring.solaredge.com/solaredge-web...       2015/09/01   \n",
       "1  https://monitoring.solaredge.com/solaredge-web...       2015/09/01   \n",
       "2  https://monitoring.solaredge.com/solaredge-web...       2015/09/01   \n",
       "3  https://monitoring.solaredge.com/solaredge-web...       2015/09/01   \n",
       "4  https://monitoring.solaredge.com/solaredge-web...       2015/09/01   \n",
       "\n",
       "                         uid  \n",
       "0  1644402015-09-01 14:30:00  \n",
       "1  1644402015-09-01 15:30:00  \n",
       "2  1644402015-09-01 16:30:00  \n",
       "3  1644402015-09-01 17:30:00  \n",
       "4  1644402015-09-01 18:30:00  "
      ]
     },
     "execution_count": 24,
     "metadata": {},
     "output_type": "execute_result"
    }
   ],
   "source": [
    "df_copy.head()"
   ]
  },
  {
   "cell_type": "code",
   "execution_count": 25,
   "id": "3b730c02",
   "metadata": {},
   "outputs": [],
   "source": [
    "df_copy.drop(labels='public_url',axis=1,inplace=True)"
   ]
  },
  {
   "cell_type": "code",
   "execution_count": 26,
   "id": "bcf22a78",
   "metadata": {},
   "outputs": [],
   "source": [
    "df_copy.drop(labels=['uid','address'],axis=1,inplace=True)"
   ]
  },
  {
   "cell_type": "code",
   "execution_count": 27,
   "id": "8bd590e9",
   "metadata": {},
   "outputs": [
    {
     "data": {
      "text/html": [
       "<div>\n",
       "<style scoped>\n",
       "    .dataframe tbody tr th:only-of-type {\n",
       "        vertical-align: middle;\n",
       "    }\n",
       "\n",
       "    .dataframe tbody tr th {\n",
       "        vertical-align: top;\n",
       "    }\n",
       "\n",
       "    .dataframe thead th {\n",
       "        text-align: right;\n",
       "    }\n",
       "</style>\n",
       "<table border=\"1\" class=\"dataframe\">\n",
       "  <thead>\n",
       "    <tr style=\"text-align: right;\">\n",
       "      <th></th>\n",
       "      <th>name</th>\n",
       "      <th>id</th>\n",
       "      <th>date</th>\n",
       "      <th>kWh</th>\n",
       "      <th>installationDate</th>\n",
       "    </tr>\n",
       "  </thead>\n",
       "  <tbody>\n",
       "    <tr>\n",
       "      <th>0</th>\n",
       "      <td>Southland Leisure Centre</td>\n",
       "      <td>164440</td>\n",
       "      <td>2015/09/01 02:30:00 PM</td>\n",
       "      <td>27.805</td>\n",
       "      <td>2015/09/01</td>\n",
       "    </tr>\n",
       "    <tr>\n",
       "      <th>1</th>\n",
       "      <td>Southland Leisure Centre</td>\n",
       "      <td>164440</td>\n",
       "      <td>2015/09/01 03:30:00 PM</td>\n",
       "      <td>30.559</td>\n",
       "      <td>2015/09/01</td>\n",
       "    </tr>\n",
       "  </tbody>\n",
       "</table>\n",
       "</div>"
      ],
      "text/plain": [
       "                       name      id                    date     kWh  \\\n",
       "0  Southland Leisure Centre  164440  2015/09/01 02:30:00 PM  27.805   \n",
       "1  Southland Leisure Centre  164440  2015/09/01 03:30:00 PM  30.559   \n",
       "\n",
       "  installationDate  \n",
       "0       2015/09/01  \n",
       "1       2015/09/01  "
      ]
     },
     "execution_count": 27,
     "metadata": {},
     "output_type": "execute_result"
    }
   ],
   "source": [
    "df_copy.head(2)"
   ]
  },
  {
   "cell_type": "code",
   "execution_count": 28,
   "id": "96cd94a5",
   "metadata": {},
   "outputs": [
    {
     "data": {
      "text/plain": [
       "array(['2015/09/01', '2016/09/25', '2016/11/07', '2016/12/13',\n",
       "       '2016/12/21', '2016/11/21', '2017/01/11', '2017/09/13',\n",
       "       '2017/10/23', '2017/10/31', '2017/11/27'], dtype=object)"
      ]
     },
     "execution_count": 28,
     "metadata": {},
     "output_type": "execute_result"
    }
   ],
   "source": [
    "df_copy['installationDate'].unique()"
   ]
  },
  {
   "cell_type": "raw",
   "id": "0026b322",
   "metadata": {},
   "source": [
    "df_copy['Date'] = df_copy['day'].apply(lambda x:x.split(' ')[0])\n",
    "df_copy['time'] = df_copy['day'].apply(lambda x:x.split(' ')[1])"
   ]
  },
  {
   "cell_type": "code",
   "execution_count": 29,
   "id": "13b84b70",
   "metadata": {},
   "outputs": [],
   "source": [
    "df_copy2 = df_copy.copy()"
   ]
  },
  {
   "cell_type": "code",
   "execution_count": 30,
   "id": "ad650c60",
   "metadata": {},
   "outputs": [],
   "source": [
    "df_copy2['year'] = pd.to_datetime(df_copy['date'],infer_datetime_format=True).dt.year\n",
    "df_copy2['month'] = pd.to_datetime(df_copy['date'],infer_datetime_format=True).dt.month\n",
    "df_copy2['day'] = pd.to_datetime(df_copy['date'],infer_datetime_format=True).dt.day\n",
    "df_copy2['time'] = pd.to_datetime(df_copy['date'],infer_datetime_format=True).dt.time"
   ]
  },
  {
   "cell_type": "code",
   "execution_count": 31,
   "id": "54c1d014",
   "metadata": {},
   "outputs": [
    {
     "data": {
      "text/html": [
       "<div>\n",
       "<style scoped>\n",
       "    .dataframe tbody tr th:only-of-type {\n",
       "        vertical-align: middle;\n",
       "    }\n",
       "\n",
       "    .dataframe tbody tr th {\n",
       "        vertical-align: top;\n",
       "    }\n",
       "\n",
       "    .dataframe thead th {\n",
       "        text-align: right;\n",
       "    }\n",
       "</style>\n",
       "<table border=\"1\" class=\"dataframe\">\n",
       "  <thead>\n",
       "    <tr style=\"text-align: right;\">\n",
       "      <th></th>\n",
       "      <th>name</th>\n",
       "      <th>id</th>\n",
       "      <th>date</th>\n",
       "      <th>kWh</th>\n",
       "      <th>installationDate</th>\n",
       "      <th>year</th>\n",
       "      <th>month</th>\n",
       "      <th>day</th>\n",
       "      <th>time</th>\n",
       "    </tr>\n",
       "  </thead>\n",
       "  <tbody>\n",
       "    <tr>\n",
       "      <th>0</th>\n",
       "      <td>Southland Leisure Centre</td>\n",
       "      <td>164440</td>\n",
       "      <td>2015/09/01 02:30:00 PM</td>\n",
       "      <td>27.805</td>\n",
       "      <td>2015/09/01</td>\n",
       "      <td>2015</td>\n",
       "      <td>9</td>\n",
       "      <td>1</td>\n",
       "      <td>14:30:00</td>\n",
       "    </tr>\n",
       "    <tr>\n",
       "      <th>1</th>\n",
       "      <td>Southland Leisure Centre</td>\n",
       "      <td>164440</td>\n",
       "      <td>2015/09/01 03:30:00 PM</td>\n",
       "      <td>30.559</td>\n",
       "      <td>2015/09/01</td>\n",
       "      <td>2015</td>\n",
       "      <td>9</td>\n",
       "      <td>1</td>\n",
       "      <td>15:30:00</td>\n",
       "    </tr>\n",
       "  </tbody>\n",
       "</table>\n",
       "</div>"
      ],
      "text/plain": [
       "                       name      id                    date     kWh  \\\n",
       "0  Southland Leisure Centre  164440  2015/09/01 02:30:00 PM  27.805   \n",
       "1  Southland Leisure Centre  164440  2015/09/01 03:30:00 PM  30.559   \n",
       "\n",
       "  installationDate  year  month  day      time  \n",
       "0       2015/09/01  2015      9    1  14:30:00  \n",
       "1       2015/09/01  2015      9    1  15:30:00  "
      ]
     },
     "execution_count": 31,
     "metadata": {},
     "output_type": "execute_result"
    }
   ],
   "source": [
    "df_copy2.head(2)"
   ]
  },
  {
   "cell_type": "code",
   "execution_count": 32,
   "id": "4de2da7f",
   "metadata": {},
   "outputs": [
    {
     "name": "stdout",
     "output_type": "stream",
     "text": [
      "<class 'pandas.core.frame.DataFrame'>\n",
      "RangeIndex: 264379 entries, 0 to 264378\n",
      "Data columns (total 9 columns):\n",
      " #   Column            Non-Null Count   Dtype  \n",
      "---  ------            --------------   -----  \n",
      " 0   name              264379 non-null  object \n",
      " 1   id                264379 non-null  int64  \n",
      " 2   date              264379 non-null  object \n",
      " 3   kWh               264379 non-null  float64\n",
      " 4   installationDate  264379 non-null  object \n",
      " 5   year              264379 non-null  int64  \n",
      " 6   month             264379 non-null  int64  \n",
      " 7   day               264379 non-null  int64  \n",
      " 8   time              264379 non-null  object \n",
      "dtypes: float64(1), int64(4), object(4)\n",
      "memory usage: 18.2+ MB\n"
     ]
    }
   ],
   "source": [
    "df_copy2.info()"
   ]
  },
  {
   "cell_type": "code",
   "execution_count": 33,
   "id": "dd3c4bf0",
   "metadata": {},
   "outputs": [],
   "source": [
    "df_copy2['time'] = df_copy2['time'].astype(str)"
   ]
  },
  {
   "cell_type": "code",
   "execution_count": 34,
   "id": "85f9deb7",
   "metadata": {},
   "outputs": [],
   "source": [
    "df_copy2['time_hour'] = df_copy2['time'].apply(lambda x:x.split(':')[0])\n",
    "df_copy2['time_min'] = df_copy2['time'].apply(lambda x:x.split(':')[1])"
   ]
  },
  {
   "cell_type": "code",
   "execution_count": 35,
   "id": "245ffefd",
   "metadata": {},
   "outputs": [],
   "source": [
    "df_copy2['time_hour']  = df_copy2['time_hour'].astype(int)\n",
    "df_copy2['time_min']  = df_copy2['time_min'].astype(int)"
   ]
  },
  {
   "cell_type": "code",
   "execution_count": 36,
   "id": "dac43d15",
   "metadata": {},
   "outputs": [
    {
     "name": "stdout",
     "output_type": "stream",
     "text": [
      "<class 'pandas.core.frame.DataFrame'>\n",
      "RangeIndex: 264379 entries, 0 to 264378\n",
      "Data columns (total 11 columns):\n",
      " #   Column            Non-Null Count   Dtype  \n",
      "---  ------            --------------   -----  \n",
      " 0   name              264379 non-null  object \n",
      " 1   id                264379 non-null  int64  \n",
      " 2   date              264379 non-null  object \n",
      " 3   kWh               264379 non-null  float64\n",
      " 4   installationDate  264379 non-null  object \n",
      " 5   year              264379 non-null  int64  \n",
      " 6   month             264379 non-null  int64  \n",
      " 7   day               264379 non-null  int64  \n",
      " 8   time              264379 non-null  object \n",
      " 9   time_hour         264379 non-null  int64  \n",
      " 10  time_min          264379 non-null  int64  \n",
      "dtypes: float64(1), int64(6), object(4)\n",
      "memory usage: 22.2+ MB\n"
     ]
    }
   ],
   "source": [
    "df_copy2.info()"
   ]
  },
  {
   "cell_type": "code",
   "execution_count": 37,
   "id": "b5fcd8f2",
   "metadata": {},
   "outputs": [],
   "source": [
    "df_copy2.drop(labels=['date','time'], axis=1, inplace= True)"
   ]
  },
  {
   "cell_type": "code",
   "execution_count": 38,
   "id": "85982976",
   "metadata": {},
   "outputs": [
    {
     "data": {
      "text/html": [
       "<div>\n",
       "<style scoped>\n",
       "    .dataframe tbody tr th:only-of-type {\n",
       "        vertical-align: middle;\n",
       "    }\n",
       "\n",
       "    .dataframe tbody tr th {\n",
       "        vertical-align: top;\n",
       "    }\n",
       "\n",
       "    .dataframe thead th {\n",
       "        text-align: right;\n",
       "    }\n",
       "</style>\n",
       "<table border=\"1\" class=\"dataframe\">\n",
       "  <thead>\n",
       "    <tr style=\"text-align: right;\">\n",
       "      <th></th>\n",
       "      <th>name</th>\n",
       "      <th>id</th>\n",
       "      <th>kWh</th>\n",
       "      <th>installationDate</th>\n",
       "      <th>year</th>\n",
       "      <th>month</th>\n",
       "      <th>day</th>\n",
       "      <th>time_hour</th>\n",
       "      <th>time_min</th>\n",
       "    </tr>\n",
       "  </thead>\n",
       "  <tbody>\n",
       "    <tr>\n",
       "      <th>0</th>\n",
       "      <td>Southland Leisure Centre</td>\n",
       "      <td>164440</td>\n",
       "      <td>27.805</td>\n",
       "      <td>2015/09/01</td>\n",
       "      <td>2015</td>\n",
       "      <td>9</td>\n",
       "      <td>1</td>\n",
       "      <td>14</td>\n",
       "      <td>30</td>\n",
       "    </tr>\n",
       "    <tr>\n",
       "      <th>1</th>\n",
       "      <td>Southland Leisure Centre</td>\n",
       "      <td>164440</td>\n",
       "      <td>30.559</td>\n",
       "      <td>2015/09/01</td>\n",
       "      <td>2015</td>\n",
       "      <td>9</td>\n",
       "      <td>1</td>\n",
       "      <td>15</td>\n",
       "      <td>30</td>\n",
       "    </tr>\n",
       "  </tbody>\n",
       "</table>\n",
       "</div>"
      ],
      "text/plain": [
       "                       name      id     kWh installationDate  year  month  \\\n",
       "0  Southland Leisure Centre  164440  27.805       2015/09/01  2015      9   \n",
       "1  Southland Leisure Centre  164440  30.559       2015/09/01  2015      9   \n",
       "\n",
       "   day  time_hour  time_min  \n",
       "0    1         14        30  \n",
       "1    1         15        30  "
      ]
     },
     "execution_count": 38,
     "metadata": {},
     "output_type": "execute_result"
    }
   ],
   "source": [
    "df_copy2.head(2)"
   ]
  },
  {
   "cell_type": "code",
   "execution_count": 39,
   "id": "7347fd7d",
   "metadata": {},
   "outputs": [],
   "source": [
    "df_copy2['installationDate'] = pd.to_datetime(df_copy2['installationDate'], infer_datetime_format=True)"
   ]
  },
  {
   "cell_type": "code",
   "execution_count": 40,
   "id": "92544e60",
   "metadata": {},
   "outputs": [
    {
     "name": "stdout",
     "output_type": "stream",
     "text": [
      "<class 'pandas.core.frame.DataFrame'>\n",
      "RangeIndex: 264379 entries, 0 to 264378\n",
      "Data columns (total 9 columns):\n",
      " #   Column            Non-Null Count   Dtype         \n",
      "---  ------            --------------   -----         \n",
      " 0   name              264379 non-null  object        \n",
      " 1   id                264379 non-null  int64         \n",
      " 2   kWh               264379 non-null  float64       \n",
      " 3   installationDate  264379 non-null  datetime64[ns]\n",
      " 4   year              264379 non-null  int64         \n",
      " 5   month             264379 non-null  int64         \n",
      " 6   day               264379 non-null  int64         \n",
      " 7   time_hour         264379 non-null  int64         \n",
      " 8   time_min          264379 non-null  int64         \n",
      "dtypes: datetime64[ns](1), float64(1), int64(6), object(1)\n",
      "memory usage: 18.2+ MB\n"
     ]
    }
   ],
   "source": [
    "df_copy2.info()"
   ]
  },
  {
   "cell_type": "code",
   "execution_count": 41,
   "id": "b84f2f75",
   "metadata": {},
   "outputs": [],
   "source": [
    "df_copy2.drop(labels=['id'], axis=1, inplace= True)"
   ]
  },
  {
   "cell_type": "code",
   "execution_count": 42,
   "id": "48b3f2ee",
   "metadata": {},
   "outputs": [
    {
     "data": {
      "text/html": [
       "<div>\n",
       "<style scoped>\n",
       "    .dataframe tbody tr th:only-of-type {\n",
       "        vertical-align: middle;\n",
       "    }\n",
       "\n",
       "    .dataframe tbody tr th {\n",
       "        vertical-align: top;\n",
       "    }\n",
       "\n",
       "    .dataframe thead th {\n",
       "        text-align: right;\n",
       "    }\n",
       "</style>\n",
       "<table border=\"1\" class=\"dataframe\">\n",
       "  <thead>\n",
       "    <tr style=\"text-align: right;\">\n",
       "      <th></th>\n",
       "      <th>name</th>\n",
       "      <th>kWh</th>\n",
       "      <th>installationDate</th>\n",
       "      <th>year</th>\n",
       "      <th>month</th>\n",
       "      <th>day</th>\n",
       "      <th>time_hour</th>\n",
       "      <th>time_min</th>\n",
       "    </tr>\n",
       "  </thead>\n",
       "  <tbody>\n",
       "    <tr>\n",
       "      <th>0</th>\n",
       "      <td>Southland Leisure Centre</td>\n",
       "      <td>27.805</td>\n",
       "      <td>2015-09-01</td>\n",
       "      <td>2015</td>\n",
       "      <td>9</td>\n",
       "      <td>1</td>\n",
       "      <td>14</td>\n",
       "      <td>30</td>\n",
       "    </tr>\n",
       "    <tr>\n",
       "      <th>1</th>\n",
       "      <td>Southland Leisure Centre</td>\n",
       "      <td>30.559</td>\n",
       "      <td>2015-09-01</td>\n",
       "      <td>2015</td>\n",
       "      <td>9</td>\n",
       "      <td>1</td>\n",
       "      <td>15</td>\n",
       "      <td>30</td>\n",
       "    </tr>\n",
       "  </tbody>\n",
       "</table>\n",
       "</div>"
      ],
      "text/plain": [
       "                       name     kWh installationDate  year  month  day  \\\n",
       "0  Southland Leisure Centre  27.805       2015-09-01  2015      9    1   \n",
       "1  Southland Leisure Centre  30.559       2015-09-01  2015      9    1   \n",
       "\n",
       "   time_hour  time_min  \n",
       "0         14        30  \n",
       "1         15        30  "
      ]
     },
     "execution_count": 42,
     "metadata": {},
     "output_type": "execute_result"
    }
   ],
   "source": [
    "df_copy2.head(2)"
   ]
  },
  {
   "cell_type": "code",
   "execution_count": 43,
   "id": "57eefd60",
   "metadata": {},
   "outputs": [
    {
     "name": "stdout",
     "output_type": "stream",
     "text": [
      "<class 'pandas.core.frame.DataFrame'>\n",
      "RangeIndex: 264379 entries, 0 to 264378\n",
      "Data columns (total 8 columns):\n",
      " #   Column            Non-Null Count   Dtype         \n",
      "---  ------            --------------   -----         \n",
      " 0   name              264379 non-null  object        \n",
      " 1   kWh               264379 non-null  float64       \n",
      " 2   installationDate  264379 non-null  datetime64[ns]\n",
      " 3   year              264379 non-null  int64         \n",
      " 4   month             264379 non-null  int64         \n",
      " 5   day               264379 non-null  int64         \n",
      " 6   time_hour         264379 non-null  int64         \n",
      " 7   time_min          264379 non-null  int64         \n",
      "dtypes: datetime64[ns](1), float64(1), int64(5), object(1)\n",
      "memory usage: 16.1+ MB\n"
     ]
    }
   ],
   "source": [
    "df_copy2.info()"
   ]
  },
  {
   "cell_type": "code",
   "execution_count": 44,
   "id": "60ebd705",
   "metadata": {},
   "outputs": [
    {
     "data": {
      "text/plain": [
       "array(['2015/09/01', '2016/09/25', '2016/11/07', '2016/12/13',\n",
       "       '2016/12/21', '2016/11/21', '2017/01/11', '2017/09/13',\n",
       "       '2017/10/23', '2017/10/31', '2017/11/27'], dtype=object)"
      ]
     },
     "execution_count": 44,
     "metadata": {},
     "output_type": "execute_result"
    }
   ],
   "source": [
    "df['installationDate'].unique()"
   ]
  },
  {
   "cell_type": "code",
   "execution_count": 45,
   "id": "3af62bee",
   "metadata": {},
   "outputs": [],
   "source": [
    "category = ['year','month','day', 'time_hour', 'time_min','installationDate']"
   ]
  },
  {
   "cell_type": "code",
   "execution_count": 46,
   "id": "72fa0897",
   "metadata": {},
   "outputs": [
    {
     "name": "stdout",
     "output_type": "stream",
     "text": [
      "The unique values of 'year' are: \n",
      " [2015 2016 2017 2018 2019 2020 2021 2022 2023]\n",
      "\n",
      "************************************************************\n",
      "The unique values of 'month' are: \n",
      " [ 9 10 11 12  1  2  3  4  5  6  7  8]\n",
      "\n",
      "************************************************************\n",
      "The unique values of 'day' are: \n",
      " [ 1  2  3  4  5  6  7  8  9 10 11 12 13 14 15 16 17 18 21 22 23 24 25 26\n",
      " 27 28 29 30 19 20 31]\n",
      "\n",
      "************************************************************\n",
      "The unique values of 'time_hour' are: \n",
      " [14 15 16 17 18 19 20 21 22 23  0  1  2  6  7  8  9 10 11 12 13  5  3  4]\n",
      "\n",
      "************************************************************\n",
      "The unique values of 'time_min' are: \n",
      " [30  0 45 15]\n",
      "\n",
      "************************************************************\n",
      "The unique values of 'installationDate' are: \n",
      " ['2015-09-01T00:00:00.000000000' '2016-09-25T00:00:00.000000000'\n",
      " '2016-11-07T00:00:00.000000000' '2016-12-13T00:00:00.000000000'\n",
      " '2016-12-21T00:00:00.000000000' '2016-11-21T00:00:00.000000000'\n",
      " '2017-01-11T00:00:00.000000000' '2017-09-13T00:00:00.000000000'\n",
      " '2017-10-23T00:00:00.000000000' '2017-10-31T00:00:00.000000000'\n",
      " '2017-11-27T00:00:00.000000000']\n",
      "\n",
      "************************************************************\n"
     ]
    }
   ],
   "source": [
    "for feature in df_copy2[category]:\n",
    "    print(f\"The unique values of '{feature}' are: \\n {df_copy2[feature].unique()}\\n\")\n",
    "    print('*'*60)"
   ]
  },
  {
   "cell_type": "code",
   "execution_count": 47,
   "id": "aa1a47b3",
   "metadata": {},
   "outputs": [
    {
     "data": {
      "text/html": [
       "<div>\n",
       "<style scoped>\n",
       "    .dataframe tbody tr th:only-of-type {\n",
       "        vertical-align: middle;\n",
       "    }\n",
       "\n",
       "    .dataframe tbody tr th {\n",
       "        vertical-align: top;\n",
       "    }\n",
       "\n",
       "    .dataframe thead th {\n",
       "        text-align: right;\n",
       "    }\n",
       "</style>\n",
       "<table border=\"1\" class=\"dataframe\">\n",
       "  <thead>\n",
       "    <tr style=\"text-align: right;\">\n",
       "      <th></th>\n",
       "      <th>name</th>\n",
       "      <th>kWh</th>\n",
       "      <th>installationDate</th>\n",
       "      <th>year</th>\n",
       "      <th>month</th>\n",
       "      <th>day</th>\n",
       "      <th>time_hour</th>\n",
       "      <th>time_min</th>\n",
       "    </tr>\n",
       "  </thead>\n",
       "  <tbody>\n",
       "    <tr>\n",
       "      <th>0</th>\n",
       "      <td>Southland Leisure Centre</td>\n",
       "      <td>27.805</td>\n",
       "      <td>2015-09-01</td>\n",
       "      <td>2015</td>\n",
       "      <td>9</td>\n",
       "      <td>1</td>\n",
       "      <td>14</td>\n",
       "      <td>30</td>\n",
       "    </tr>\n",
       "    <tr>\n",
       "      <th>1</th>\n",
       "      <td>Southland Leisure Centre</td>\n",
       "      <td>30.559</td>\n",
       "      <td>2015-09-01</td>\n",
       "      <td>2015</td>\n",
       "      <td>9</td>\n",
       "      <td>1</td>\n",
       "      <td>15</td>\n",
       "      <td>30</td>\n",
       "    </tr>\n",
       "  </tbody>\n",
       "</table>\n",
       "</div>"
      ],
      "text/plain": [
       "                       name     kWh installationDate  year  month  day  \\\n",
       "0  Southland Leisure Centre  27.805       2015-09-01  2015      9    1   \n",
       "1  Southland Leisure Centre  30.559       2015-09-01  2015      9    1   \n",
       "\n",
       "   time_hour  time_min  \n",
       "0         14        30  \n",
       "1         15        30  "
      ]
     },
     "execution_count": 47,
     "metadata": {},
     "output_type": "execute_result"
    }
   ],
   "source": [
    "df_copy2.head(2)"
   ]
  },
  {
   "cell_type": "markdown",
   "id": "ba0bbf2f",
   "metadata": {},
   "source": [
    "## kWh column moved to the end"
   ]
  },
  {
   "cell_type": "code",
   "execution_count": 48,
   "id": "2d0f4f21",
   "metadata": {},
   "outputs": [],
   "source": [
    "df_copy2 = df_copy2[['name','installationDate','year','month','day','time_hour','time_min','kWh']]"
   ]
  },
  {
   "cell_type": "code",
   "execution_count": 49,
   "id": "0935d8e8",
   "metadata": {},
   "outputs": [
    {
     "data": {
      "text/html": [
       "<div>\n",
       "<style scoped>\n",
       "    .dataframe tbody tr th:only-of-type {\n",
       "        vertical-align: middle;\n",
       "    }\n",
       "\n",
       "    .dataframe tbody tr th {\n",
       "        vertical-align: top;\n",
       "    }\n",
       "\n",
       "    .dataframe thead th {\n",
       "        text-align: right;\n",
       "    }\n",
       "</style>\n",
       "<table border=\"1\" class=\"dataframe\">\n",
       "  <thead>\n",
       "    <tr style=\"text-align: right;\">\n",
       "      <th></th>\n",
       "      <th>name</th>\n",
       "      <th>installationDate</th>\n",
       "      <th>year</th>\n",
       "      <th>month</th>\n",
       "      <th>day</th>\n",
       "      <th>time_hour</th>\n",
       "      <th>time_min</th>\n",
       "      <th>kWh</th>\n",
       "    </tr>\n",
       "  </thead>\n",
       "  <tbody>\n",
       "    <tr>\n",
       "      <th>0</th>\n",
       "      <td>Southland Leisure Centre</td>\n",
       "      <td>2015-09-01</td>\n",
       "      <td>2015</td>\n",
       "      <td>9</td>\n",
       "      <td>1</td>\n",
       "      <td>14</td>\n",
       "      <td>30</td>\n",
       "      <td>27.805</td>\n",
       "    </tr>\n",
       "    <tr>\n",
       "      <th>1</th>\n",
       "      <td>Southland Leisure Centre</td>\n",
       "      <td>2015-09-01</td>\n",
       "      <td>2015</td>\n",
       "      <td>9</td>\n",
       "      <td>1</td>\n",
       "      <td>15</td>\n",
       "      <td>30</td>\n",
       "      <td>30.559</td>\n",
       "    </tr>\n",
       "  </tbody>\n",
       "</table>\n",
       "</div>"
      ],
      "text/plain": [
       "                       name installationDate  year  month  day  time_hour  \\\n",
       "0  Southland Leisure Centre       2015-09-01  2015      9    1         14   \n",
       "1  Southland Leisure Centre       2015-09-01  2015      9    1         15   \n",
       "\n",
       "   time_min     kWh  \n",
       "0        30  27.805  \n",
       "1        30  30.559  "
      ]
     },
     "execution_count": 49,
     "metadata": {},
     "output_type": "execute_result"
    }
   ],
   "source": [
    "df_copy2.head(2)"
   ]
  },
  {
   "cell_type": "raw",
   "id": "62ab8e6f",
   "metadata": {},
   "source": [
    "# for moving column to the end\n",
    "#\n",
    "df.head()\n",
    "column_to_move = df.pop('kWh')\n",
    "df.head(2)\n",
    "# len(df.columns) --> 8 columns, 7th position.\n",
    "\n",
    "df.insert(7,'kWh', column_to_move)\n",
    "df.head(2)\n",
    "#"
   ]
  },
  {
   "cell_type": "code",
   "execution_count": 50,
   "id": "130d13ad",
   "metadata": {},
   "outputs": [],
   "source": [
    "categorical_features = [feature for feature in df_copy2.columns if df_copy2[feature].dtype =='O']"
   ]
  },
  {
   "cell_type": "code",
   "execution_count": 51,
   "id": "d915a170",
   "metadata": {},
   "outputs": [
    {
     "data": {
      "text/plain": [
       "['name']"
      ]
     },
     "execution_count": 51,
     "metadata": {},
     "output_type": "execute_result"
    }
   ],
   "source": [
    "categorical_features"
   ]
  },
  {
   "cell_type": "code",
   "execution_count": 52,
   "id": "1436372a",
   "metadata": {},
   "outputs": [],
   "source": [
    "numerical_features = [feature for feature in df_copy2.columns if df_copy2[feature].dtype !='O']"
   ]
  },
  {
   "cell_type": "code",
   "execution_count": 53,
   "id": "92d0c6ed",
   "metadata": {},
   "outputs": [
    {
     "data": {
      "text/plain": [
       "['installationDate', 'year', 'month', 'day', 'time_hour', 'time_min', 'kWh']"
      ]
     },
     "execution_count": 53,
     "metadata": {},
     "output_type": "execute_result"
    }
   ],
   "source": [
    "numerical_features"
   ]
  },
  {
   "cell_type": "raw",
   "id": "d51c9e0a",
   "metadata": {},
   "source": [
    "df['year'] = df['date'].apply(lambda x:x.split('/')[0])\n",
    "df['month'] = df['date'].apply(lambda x:x.split('/')[1])\n",
    "df['day'] = df['date'].apply(lambda x:x.split('/')[2])"
   ]
  },
  {
   "cell_type": "code",
   "execution_count": 54,
   "id": "80b6b891",
   "metadata": {},
   "outputs": [
    {
     "name": "stdout",
     "output_type": "stream",
     "text": [
      "Unique values of 'name' are :\n",
      " ['Southland Leisure Centre' 'Hillhurst Sunnyside Community Association'\n",
      " 'Calgary Fire Hall Headquarters' 'Whitehorn Multi-Service Centre'\n",
      " 'City of Calgary North Corporate Warehouse'\n",
      " 'Richmond - Knob Hill Community Hall' 'Glenmore Water Treatment Plant'\n",
      " 'CFD Firehall #7' 'Manchester Building M'\n",
      " 'Bearspaw Water Treatment Plant' 'Telus Spark']\n",
      "\n",
      " and the lenth is 11\n",
      "************************************************************\n"
     ]
    }
   ],
   "source": [
    "for feature in df_copy2[categorical_features]:\n",
    "    print(f\"Unique values of '{feature}' are :\\n {df_copy2[feature].unique()}\\n\\n and the lenth is {len(df_copy2[feature].unique())}\")\n",
    "    \n",
    "    print('*'*60)"
   ]
  },
  {
   "cell_type": "code",
   "execution_count": 55,
   "id": "8a1cc1cb",
   "metadata": {},
   "outputs": [
    {
     "data": {
      "text/html": [
       "<div>\n",
       "<style scoped>\n",
       "    .dataframe tbody tr th:only-of-type {\n",
       "        vertical-align: middle;\n",
       "    }\n",
       "\n",
       "    .dataframe tbody tr th {\n",
       "        vertical-align: top;\n",
       "    }\n",
       "\n",
       "    .dataframe thead th {\n",
       "        text-align: right;\n",
       "    }\n",
       "</style>\n",
       "<table border=\"1\" class=\"dataframe\">\n",
       "  <thead>\n",
       "    <tr style=\"text-align: right;\">\n",
       "      <th></th>\n",
       "      <th>name</th>\n",
       "      <th>installationDate</th>\n",
       "      <th>year</th>\n",
       "      <th>month</th>\n",
       "      <th>day</th>\n",
       "      <th>time_hour</th>\n",
       "      <th>time_min</th>\n",
       "      <th>kWh</th>\n",
       "    </tr>\n",
       "  </thead>\n",
       "  <tbody>\n",
       "    <tr>\n",
       "      <th>0</th>\n",
       "      <td>Southland Leisure Centre</td>\n",
       "      <td>2015-09-01</td>\n",
       "      <td>2015</td>\n",
       "      <td>9</td>\n",
       "      <td>1</td>\n",
       "      <td>14</td>\n",
       "      <td>30</td>\n",
       "      <td>27.805</td>\n",
       "    </tr>\n",
       "    <tr>\n",
       "      <th>1</th>\n",
       "      <td>Southland Leisure Centre</td>\n",
       "      <td>2015-09-01</td>\n",
       "      <td>2015</td>\n",
       "      <td>9</td>\n",
       "      <td>1</td>\n",
       "      <td>15</td>\n",
       "      <td>30</td>\n",
       "      <td>30.559</td>\n",
       "    </tr>\n",
       "  </tbody>\n",
       "</table>\n",
       "</div>"
      ],
      "text/plain": [
       "                       name installationDate  year  month  day  time_hour  \\\n",
       "0  Southland Leisure Centre       2015-09-01  2015      9    1         14   \n",
       "1  Southland Leisure Centre       2015-09-01  2015      9    1         15   \n",
       "\n",
       "   time_min     kWh  \n",
       "0        30  27.805  \n",
       "1        30  30.559  "
      ]
     },
     "execution_count": 55,
     "metadata": {},
     "output_type": "execute_result"
    }
   ],
   "source": [
    "df_copy2.head(2)"
   ]
  },
  {
   "cell_type": "code",
   "execution_count": 56,
   "id": "62688e59",
   "metadata": {},
   "outputs": [],
   "source": [
    "df_copy2.to_csv('cleaned_solar_energy_production_calgary.csv', index=False)"
   ]
  },
  {
   "cell_type": "raw",
   "id": "90fc18ea",
   "metadata": {},
   "source": [
    "df_copy2 = pd.get_dummies(df_copy2, columns=['name'], drop_first=True)"
   ]
  },
  {
   "cell_type": "code",
   "execution_count": 57,
   "id": "0384c122",
   "metadata": {},
   "outputs": [],
   "source": [
    "df_cleaned = pd.read_csv('cleaned_solar_energy_production_calgary.csv')"
   ]
  },
  {
   "cell_type": "code",
   "execution_count": 58,
   "id": "ae526556",
   "metadata": {},
   "outputs": [
    {
     "data": {
      "text/html": [
       "<div>\n",
       "<style scoped>\n",
       "    .dataframe tbody tr th:only-of-type {\n",
       "        vertical-align: middle;\n",
       "    }\n",
       "\n",
       "    .dataframe tbody tr th {\n",
       "        vertical-align: top;\n",
       "    }\n",
       "\n",
       "    .dataframe thead th {\n",
       "        text-align: right;\n",
       "    }\n",
       "</style>\n",
       "<table border=\"1\" class=\"dataframe\">\n",
       "  <thead>\n",
       "    <tr style=\"text-align: right;\">\n",
       "      <th></th>\n",
       "      <th>name</th>\n",
       "      <th>installationDate</th>\n",
       "      <th>year</th>\n",
       "      <th>month</th>\n",
       "      <th>day</th>\n",
       "      <th>time_hour</th>\n",
       "      <th>time_min</th>\n",
       "      <th>kWh</th>\n",
       "    </tr>\n",
       "  </thead>\n",
       "  <tbody>\n",
       "    <tr>\n",
       "      <th>0</th>\n",
       "      <td>Southland Leisure Centre</td>\n",
       "      <td>2015-09-01</td>\n",
       "      <td>2015</td>\n",
       "      <td>9</td>\n",
       "      <td>1</td>\n",
       "      <td>14</td>\n",
       "      <td>30</td>\n",
       "      <td>27.805</td>\n",
       "    </tr>\n",
       "    <tr>\n",
       "      <th>1</th>\n",
       "      <td>Southland Leisure Centre</td>\n",
       "      <td>2015-09-01</td>\n",
       "      <td>2015</td>\n",
       "      <td>9</td>\n",
       "      <td>1</td>\n",
       "      <td>15</td>\n",
       "      <td>30</td>\n",
       "      <td>30.559</td>\n",
       "    </tr>\n",
       "  </tbody>\n",
       "</table>\n",
       "</div>"
      ],
      "text/plain": [
       "                       name installationDate  year  month  day  time_hour  \\\n",
       "0  Southland Leisure Centre       2015-09-01  2015      9    1         14   \n",
       "1  Southland Leisure Centre       2015-09-01  2015      9    1         15   \n",
       "\n",
       "   time_min     kWh  \n",
       "0        30  27.805  \n",
       "1        30  30.559  "
      ]
     },
     "execution_count": 58,
     "metadata": {},
     "output_type": "execute_result"
    }
   ],
   "source": [
    "df_cleaned.head(2)"
   ]
  },
  {
   "cell_type": "code",
   "execution_count": 59,
   "id": "609d55f8",
   "metadata": {},
   "outputs": [
    {
     "name": "stdout",
     "output_type": "stream",
     "text": [
      "<class 'pandas.core.frame.DataFrame'>\n",
      "RangeIndex: 264379 entries, 0 to 264378\n",
      "Data columns (total 8 columns):\n",
      " #   Column            Non-Null Count   Dtype  \n",
      "---  ------            --------------   -----  \n",
      " 0   name              264379 non-null  object \n",
      " 1   installationDate  264379 non-null  object \n",
      " 2   year              264379 non-null  int64  \n",
      " 3   month             264379 non-null  int64  \n",
      " 4   day               264379 non-null  int64  \n",
      " 5   time_hour         264379 non-null  int64  \n",
      " 6   time_min          264379 non-null  int64  \n",
      " 7   kWh               264379 non-null  float64\n",
      "dtypes: float64(1), int64(5), object(2)\n",
      "memory usage: 16.1+ MB\n"
     ]
    }
   ],
   "source": [
    "df_cleaned.info()"
   ]
  },
  {
   "cell_type": "code",
   "execution_count": 62,
   "id": "cf04600a",
   "metadata": {},
   "outputs": [
    {
     "data": {
      "text/html": [
       "<div>\n",
       "<style scoped>\n",
       "    .dataframe tbody tr th:only-of-type {\n",
       "        vertical-align: middle;\n",
       "    }\n",
       "\n",
       "    .dataframe tbody tr th {\n",
       "        vertical-align: top;\n",
       "    }\n",
       "\n",
       "    .dataframe thead th {\n",
       "        text-align: right;\n",
       "    }\n",
       "</style>\n",
       "<table border=\"1\" class=\"dataframe\">\n",
       "  <thead>\n",
       "    <tr style=\"text-align: right;\">\n",
       "      <th></th>\n",
       "      <th>name</th>\n",
       "      <th>installationDate</th>\n",
       "      <th>year</th>\n",
       "      <th>month</th>\n",
       "      <th>day</th>\n",
       "      <th>time_hour</th>\n",
       "      <th>time_min</th>\n",
       "      <th>kWh</th>\n",
       "    </tr>\n",
       "  </thead>\n",
       "  <tbody>\n",
       "    <tr>\n",
       "      <th>168779</th>\n",
       "      <td>Glenmore Water Treatment Plant</td>\n",
       "      <td>2017-01-11</td>\n",
       "      <td>2017</td>\n",
       "      <td>9</td>\n",
       "      <td>8</td>\n",
       "      <td>8</td>\n",
       "      <td>0</td>\n",
       "      <td>17.950</td>\n",
       "    </tr>\n",
       "    <tr>\n",
       "      <th>181687</th>\n",
       "      <td>Glenmore Water Treatment Plant</td>\n",
       "      <td>2017-01-11</td>\n",
       "      <td>2020</td>\n",
       "      <td>9</td>\n",
       "      <td>21</td>\n",
       "      <td>15</td>\n",
       "      <td>0</td>\n",
       "      <td>120.179</td>\n",
       "    </tr>\n",
       "    <tr>\n",
       "      <th>225524</th>\n",
       "      <td>Manchester Building M</td>\n",
       "      <td>2017-10-23</td>\n",
       "      <td>2020</td>\n",
       "      <td>5</td>\n",
       "      <td>9</td>\n",
       "      <td>14</td>\n",
       "      <td>0</td>\n",
       "      <td>12.388</td>\n",
       "    </tr>\n",
       "    <tr>\n",
       "      <th>195689</th>\n",
       "      <td>CFD Firehall #7</td>\n",
       "      <td>2017-09-13</td>\n",
       "      <td>2018</td>\n",
       "      <td>8</td>\n",
       "      <td>30</td>\n",
       "      <td>15</td>\n",
       "      <td>0</td>\n",
       "      <td>12.251</td>\n",
       "    </tr>\n",
       "    <tr>\n",
       "      <th>63808</th>\n",
       "      <td>Calgary Fire Hall Headquarters</td>\n",
       "      <td>2016-11-07</td>\n",
       "      <td>2018</td>\n",
       "      <td>12</td>\n",
       "      <td>30</td>\n",
       "      <td>14</td>\n",
       "      <td>0</td>\n",
       "      <td>0.056</td>\n",
       "    </tr>\n",
       "    <tr>\n",
       "      <th>198031</th>\n",
       "      <td>CFD Firehall #7</td>\n",
       "      <td>2017-09-13</td>\n",
       "      <td>2019</td>\n",
       "      <td>5</td>\n",
       "      <td>14</td>\n",
       "      <td>20</td>\n",
       "      <td>0</td>\n",
       "      <td>0.278</td>\n",
       "    </tr>\n",
       "    <tr>\n",
       "      <th>34679</th>\n",
       "      <td>Hillhurst Sunnyside Community Association</td>\n",
       "      <td>2016-09-25</td>\n",
       "      <td>2017</td>\n",
       "      <td>7</td>\n",
       "      <td>26</td>\n",
       "      <td>6</td>\n",
       "      <td>0</td>\n",
       "      <td>0.272</td>\n",
       "    </tr>\n",
       "    <tr>\n",
       "      <th>3921</th>\n",
       "      <td>Southland Leisure Centre</td>\n",
       "      <td>2015-09-01</td>\n",
       "      <td>2016</td>\n",
       "      <td>7</td>\n",
       "      <td>17</td>\n",
       "      <td>9</td>\n",
       "      <td>0</td>\n",
       "      <td>69.293</td>\n",
       "    </tr>\n",
       "    <tr>\n",
       "      <th>21075</th>\n",
       "      <td>Southland Leisure Centre</td>\n",
       "      <td>2015-09-01</td>\n",
       "      <td>2020</td>\n",
       "      <td>7</td>\n",
       "      <td>23</td>\n",
       "      <td>14</td>\n",
       "      <td>0</td>\n",
       "      <td>105.046</td>\n",
       "    </tr>\n",
       "    <tr>\n",
       "      <th>173397</th>\n",
       "      <td>Glenmore Water Treatment Plant</td>\n",
       "      <td>2017-01-11</td>\n",
       "      <td>2018</td>\n",
       "      <td>10</td>\n",
       "      <td>14</td>\n",
       "      <td>15</td>\n",
       "      <td>0</td>\n",
       "      <td>82.805</td>\n",
       "    </tr>\n",
       "    <tr>\n",
       "      <th>9816</th>\n",
       "      <td>Southland Leisure Centre</td>\n",
       "      <td>2015-09-01</td>\n",
       "      <td>2017</td>\n",
       "      <td>12</td>\n",
       "      <td>13</td>\n",
       "      <td>9</td>\n",
       "      <td>0</td>\n",
       "      <td>3.445</td>\n",
       "    </tr>\n",
       "    <tr>\n",
       "      <th>24458</th>\n",
       "      <td>Southland Leisure Centre</td>\n",
       "      <td>2015-09-01</td>\n",
       "      <td>2021</td>\n",
       "      <td>6</td>\n",
       "      <td>23</td>\n",
       "      <td>21</td>\n",
       "      <td>0</td>\n",
       "      <td>0.231</td>\n",
       "    </tr>\n",
       "    <tr>\n",
       "      <th>157877</th>\n",
       "      <td>Richmond - Knob Hill Community Hall</td>\n",
       "      <td>2016-11-21</td>\n",
       "      <td>2021</td>\n",
       "      <td>6</td>\n",
       "      <td>20</td>\n",
       "      <td>15</td>\n",
       "      <td>0</td>\n",
       "      <td>6.605</td>\n",
       "    </tr>\n",
       "    <tr>\n",
       "      <th>260913</th>\n",
       "      <td>Bearspaw Water Treatment Plant</td>\n",
       "      <td>2017-10-31</td>\n",
       "      <td>2022</td>\n",
       "      <td>7</td>\n",
       "      <td>29</td>\n",
       "      <td>12</td>\n",
       "      <td>0</td>\n",
       "      <td>267.719</td>\n",
       "    </tr>\n",
       "    <tr>\n",
       "      <th>108201</th>\n",
       "      <td>Whitehorn Multi-Service Centre</td>\n",
       "      <td>2016-12-13</td>\n",
       "      <td>2022</td>\n",
       "      <td>9</td>\n",
       "      <td>1</td>\n",
       "      <td>7</td>\n",
       "      <td>0</td>\n",
       "      <td>7.452</td>\n",
       "    </tr>\n",
       "    <tr>\n",
       "      <th>113238</th>\n",
       "      <td>City of Calgary North Corporate Warehouse</td>\n",
       "      <td>2016-12-21</td>\n",
       "      <td>2017</td>\n",
       "      <td>7</td>\n",
       "      <td>19</td>\n",
       "      <td>9</td>\n",
       "      <td>0</td>\n",
       "      <td>40.578</td>\n",
       "    </tr>\n",
       "    <tr>\n",
       "      <th>111402</th>\n",
       "      <td>City of Calgary North Corporate Warehouse</td>\n",
       "      <td>2016-12-21</td>\n",
       "      <td>2017</td>\n",
       "      <td>3</td>\n",
       "      <td>26</td>\n",
       "      <td>7</td>\n",
       "      <td>0</td>\n",
       "      <td>0.934</td>\n",
       "    </tr>\n",
       "    <tr>\n",
       "      <th>243139</th>\n",
       "      <td>Bearspaw Water Treatment Plant</td>\n",
       "      <td>2017-10-31</td>\n",
       "      <td>2018</td>\n",
       "      <td>8</td>\n",
       "      <td>19</td>\n",
       "      <td>13</td>\n",
       "      <td>0</td>\n",
       "      <td>345.602</td>\n",
       "    </tr>\n",
       "    <tr>\n",
       "      <th>114600</th>\n",
       "      <td>City of Calgary North Corporate Warehouse</td>\n",
       "      <td>2016-12-21</td>\n",
       "      <td>2017</td>\n",
       "      <td>10</td>\n",
       "      <td>25</td>\n",
       "      <td>17</td>\n",
       "      <td>0</td>\n",
       "      <td>2.654</td>\n",
       "    </tr>\n",
       "    <tr>\n",
       "      <th>205065</th>\n",
       "      <td>CFD Firehall #7</td>\n",
       "      <td>2017-09-13</td>\n",
       "      <td>2020</td>\n",
       "      <td>11</td>\n",
       "      <td>13</td>\n",
       "      <td>8</td>\n",
       "      <td>0</td>\n",
       "      <td>0.684</td>\n",
       "    </tr>\n",
       "  </tbody>\n",
       "</table>\n",
       "</div>"
      ],
      "text/plain": [
       "                                             name installationDate  year  \\\n",
       "168779             Glenmore Water Treatment Plant       2017-01-11  2017   \n",
       "181687             Glenmore Water Treatment Plant       2017-01-11  2020   \n",
       "225524                      Manchester Building M       2017-10-23  2020   \n",
       "195689                            CFD Firehall #7       2017-09-13  2018   \n",
       "63808              Calgary Fire Hall Headquarters       2016-11-07  2018   \n",
       "198031                            CFD Firehall #7       2017-09-13  2019   \n",
       "34679   Hillhurst Sunnyside Community Association       2016-09-25  2017   \n",
       "3921                     Southland Leisure Centre       2015-09-01  2016   \n",
       "21075                    Southland Leisure Centre       2015-09-01  2020   \n",
       "173397             Glenmore Water Treatment Plant       2017-01-11  2018   \n",
       "9816                     Southland Leisure Centre       2015-09-01  2017   \n",
       "24458                    Southland Leisure Centre       2015-09-01  2021   \n",
       "157877        Richmond - Knob Hill Community Hall       2016-11-21  2021   \n",
       "260913             Bearspaw Water Treatment Plant       2017-10-31  2022   \n",
       "108201             Whitehorn Multi-Service Centre       2016-12-13  2022   \n",
       "113238  City of Calgary North Corporate Warehouse       2016-12-21  2017   \n",
       "111402  City of Calgary North Corporate Warehouse       2016-12-21  2017   \n",
       "243139             Bearspaw Water Treatment Plant       2017-10-31  2018   \n",
       "114600  City of Calgary North Corporate Warehouse       2016-12-21  2017   \n",
       "205065                            CFD Firehall #7       2017-09-13  2020   \n",
       "\n",
       "        month  day  time_hour  time_min      kWh  \n",
       "168779      9    8          8         0   17.950  \n",
       "181687      9   21         15         0  120.179  \n",
       "225524      5    9         14         0   12.388  \n",
       "195689      8   30         15         0   12.251  \n",
       "63808      12   30         14         0    0.056  \n",
       "198031      5   14         20         0    0.278  \n",
       "34679       7   26          6         0    0.272  \n",
       "3921        7   17          9         0   69.293  \n",
       "21075       7   23         14         0  105.046  \n",
       "173397     10   14         15         0   82.805  \n",
       "9816       12   13          9         0    3.445  \n",
       "24458       6   23         21         0    0.231  \n",
       "157877      6   20         15         0    6.605  \n",
       "260913      7   29         12         0  267.719  \n",
       "108201      9    1          7         0    7.452  \n",
       "113238      7   19          9         0   40.578  \n",
       "111402      3   26          7         0    0.934  \n",
       "243139      8   19         13         0  345.602  \n",
       "114600     10   25         17         0    2.654  \n",
       "205065     11   13          8         0    0.684  "
      ]
     },
     "execution_count": 62,
     "metadata": {},
     "output_type": "execute_result"
    }
   ],
   "source": [
    "df_cleaned.sample(20)"
   ]
  },
  {
   "cell_type": "code",
   "execution_count": null,
   "id": "67b06d4c",
   "metadata": {},
   "outputs": [],
   "source": []
  }
 ],
 "metadata": {
  "kernelspec": {
   "display_name": "Python 3 (ipykernel)",
   "language": "python",
   "name": "python3"
  },
  "language_info": {
   "codemirror_mode": {
    "name": "ipython",
    "version": 3
   },
   "file_extension": ".py",
   "mimetype": "text/x-python",
   "name": "python",
   "nbconvert_exporter": "python",
   "pygments_lexer": "ipython3",
   "version": "3.9.12"
  }
 },
 "nbformat": 4,
 "nbformat_minor": 5
}
